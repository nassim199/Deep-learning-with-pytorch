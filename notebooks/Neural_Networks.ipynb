{
  "nbformat": 4,
  "nbformat_minor": 0,
  "metadata": {
    "colab": {
      "name": "Neural Networks.ipynb",
      "provenance": [],
      "collapsed_sections": []
    },
    "kernelspec": {
      "name": "python3",
      "display_name": "Python 3"
    },
    "language_info": {
      "name": "python"
    },
    "widgets": {
      "application/vnd.jupyter.widget-state+json": {
        "fc4ecad54d844cf6bf49d07cba116d1e": {
          "model_module": "@jupyter-widgets/controls",
          "model_name": "HBoxModel",
          "model_module_version": "1.5.0",
          "state": {
            "_view_name": "HBoxView",
            "_dom_classes": [],
            "_model_name": "HBoxModel",
            "_view_module": "@jupyter-widgets/controls",
            "_model_module_version": "1.5.0",
            "_view_count": null,
            "_view_module_version": "1.5.0",
            "box_style": "",
            "layout": "IPY_MODEL_d116b1d913ee4db29e9573319f5e0d64",
            "_model_module": "@jupyter-widgets/controls",
            "children": [
              "IPY_MODEL_0dc159a2b13b493c86863a2a73fc0984",
              "IPY_MODEL_2534e512936f4423b7d0832c0da4b702",
              "IPY_MODEL_7ed59ef6bf62422b8c5522b1f931540e"
            ]
          }
        },
        "d116b1d913ee4db29e9573319f5e0d64": {
          "model_module": "@jupyter-widgets/base",
          "model_name": "LayoutModel",
          "model_module_version": "1.2.0",
          "state": {
            "_view_name": "LayoutView",
            "grid_template_rows": null,
            "right": null,
            "justify_content": null,
            "_view_module": "@jupyter-widgets/base",
            "overflow": null,
            "_model_module_version": "1.2.0",
            "_view_count": null,
            "flex_flow": null,
            "width": null,
            "min_width": null,
            "border": null,
            "align_items": null,
            "bottom": null,
            "_model_module": "@jupyter-widgets/base",
            "top": null,
            "grid_column": null,
            "overflow_y": null,
            "overflow_x": null,
            "grid_auto_flow": null,
            "grid_area": null,
            "grid_template_columns": null,
            "flex": null,
            "_model_name": "LayoutModel",
            "justify_items": null,
            "grid_row": null,
            "max_height": null,
            "align_content": null,
            "visibility": null,
            "align_self": null,
            "height": null,
            "min_height": null,
            "padding": null,
            "grid_auto_rows": null,
            "grid_gap": null,
            "max_width": null,
            "order": null,
            "_view_module_version": "1.2.0",
            "grid_template_areas": null,
            "object_position": null,
            "object_fit": null,
            "grid_auto_columns": null,
            "margin": null,
            "display": null,
            "left": null
          }
        },
        "0dc159a2b13b493c86863a2a73fc0984": {
          "model_module": "@jupyter-widgets/controls",
          "model_name": "HTMLModel",
          "model_module_version": "1.5.0",
          "state": {
            "_view_name": "HTMLView",
            "style": "IPY_MODEL_b044af12344d4f0e9cdf1f8674faf839",
            "_dom_classes": [],
            "description": "",
            "_model_name": "HTMLModel",
            "placeholder": "​",
            "_view_module": "@jupyter-widgets/controls",
            "_model_module_version": "1.5.0",
            "value": "",
            "_view_count": null,
            "_view_module_version": "1.5.0",
            "description_tooltip": null,
            "_model_module": "@jupyter-widgets/controls",
            "layout": "IPY_MODEL_27d1b34bcbf44ae28d47080927941a53"
          }
        },
        "2534e512936f4423b7d0832c0da4b702": {
          "model_module": "@jupyter-widgets/controls",
          "model_name": "FloatProgressModel",
          "model_module_version": "1.5.0",
          "state": {
            "_view_name": "ProgressView",
            "style": "IPY_MODEL_e9fd3c85c5ee448dbe83edb08d8b7640",
            "_dom_classes": [],
            "description": "",
            "_model_name": "FloatProgressModel",
            "bar_style": "success",
            "max": 9912422,
            "_view_module": "@jupyter-widgets/controls",
            "_model_module_version": "1.5.0",
            "value": 9912422,
            "_view_count": null,
            "_view_module_version": "1.5.0",
            "orientation": "horizontal",
            "min": 0,
            "description_tooltip": null,
            "_model_module": "@jupyter-widgets/controls",
            "layout": "IPY_MODEL_6ec1fbe8507a451885294c7c3636d270"
          }
        },
        "7ed59ef6bf62422b8c5522b1f931540e": {
          "model_module": "@jupyter-widgets/controls",
          "model_name": "HTMLModel",
          "model_module_version": "1.5.0",
          "state": {
            "_view_name": "HTMLView",
            "style": "IPY_MODEL_cb6f27f5fd90401d9291745770c3fbf2",
            "_dom_classes": [],
            "description": "",
            "_model_name": "HTMLModel",
            "placeholder": "​",
            "_view_module": "@jupyter-widgets/controls",
            "_model_module_version": "1.5.0",
            "value": " 9913344/? [00:00&lt;00:00, 33049420.95it/s]",
            "_view_count": null,
            "_view_module_version": "1.5.0",
            "description_tooltip": null,
            "_model_module": "@jupyter-widgets/controls",
            "layout": "IPY_MODEL_621ffb241a4d408eaae605e8b31dd8c9"
          }
        },
        "b044af12344d4f0e9cdf1f8674faf839": {
          "model_module": "@jupyter-widgets/controls",
          "model_name": "DescriptionStyleModel",
          "model_module_version": "1.5.0",
          "state": {
            "_view_name": "StyleView",
            "_model_name": "DescriptionStyleModel",
            "description_width": "",
            "_view_module": "@jupyter-widgets/base",
            "_model_module_version": "1.5.0",
            "_view_count": null,
            "_view_module_version": "1.2.0",
            "_model_module": "@jupyter-widgets/controls"
          }
        },
        "27d1b34bcbf44ae28d47080927941a53": {
          "model_module": "@jupyter-widgets/base",
          "model_name": "LayoutModel",
          "model_module_version": "1.2.0",
          "state": {
            "_view_name": "LayoutView",
            "grid_template_rows": null,
            "right": null,
            "justify_content": null,
            "_view_module": "@jupyter-widgets/base",
            "overflow": null,
            "_model_module_version": "1.2.0",
            "_view_count": null,
            "flex_flow": null,
            "width": null,
            "min_width": null,
            "border": null,
            "align_items": null,
            "bottom": null,
            "_model_module": "@jupyter-widgets/base",
            "top": null,
            "grid_column": null,
            "overflow_y": null,
            "overflow_x": null,
            "grid_auto_flow": null,
            "grid_area": null,
            "grid_template_columns": null,
            "flex": null,
            "_model_name": "LayoutModel",
            "justify_items": null,
            "grid_row": null,
            "max_height": null,
            "align_content": null,
            "visibility": null,
            "align_self": null,
            "height": null,
            "min_height": null,
            "padding": null,
            "grid_auto_rows": null,
            "grid_gap": null,
            "max_width": null,
            "order": null,
            "_view_module_version": "1.2.0",
            "grid_template_areas": null,
            "object_position": null,
            "object_fit": null,
            "grid_auto_columns": null,
            "margin": null,
            "display": null,
            "left": null
          }
        },
        "e9fd3c85c5ee448dbe83edb08d8b7640": {
          "model_module": "@jupyter-widgets/controls",
          "model_name": "ProgressStyleModel",
          "model_module_version": "1.5.0",
          "state": {
            "_view_name": "StyleView",
            "_model_name": "ProgressStyleModel",
            "description_width": "",
            "_view_module": "@jupyter-widgets/base",
            "_model_module_version": "1.5.0",
            "_view_count": null,
            "_view_module_version": "1.2.0",
            "bar_color": null,
            "_model_module": "@jupyter-widgets/controls"
          }
        },
        "6ec1fbe8507a451885294c7c3636d270": {
          "model_module": "@jupyter-widgets/base",
          "model_name": "LayoutModel",
          "model_module_version": "1.2.0",
          "state": {
            "_view_name": "LayoutView",
            "grid_template_rows": null,
            "right": null,
            "justify_content": null,
            "_view_module": "@jupyter-widgets/base",
            "overflow": null,
            "_model_module_version": "1.2.0",
            "_view_count": null,
            "flex_flow": null,
            "width": null,
            "min_width": null,
            "border": null,
            "align_items": null,
            "bottom": null,
            "_model_module": "@jupyter-widgets/base",
            "top": null,
            "grid_column": null,
            "overflow_y": null,
            "overflow_x": null,
            "grid_auto_flow": null,
            "grid_area": null,
            "grid_template_columns": null,
            "flex": null,
            "_model_name": "LayoutModel",
            "justify_items": null,
            "grid_row": null,
            "max_height": null,
            "align_content": null,
            "visibility": null,
            "align_self": null,
            "height": null,
            "min_height": null,
            "padding": null,
            "grid_auto_rows": null,
            "grid_gap": null,
            "max_width": null,
            "order": null,
            "_view_module_version": "1.2.0",
            "grid_template_areas": null,
            "object_position": null,
            "object_fit": null,
            "grid_auto_columns": null,
            "margin": null,
            "display": null,
            "left": null
          }
        },
        "cb6f27f5fd90401d9291745770c3fbf2": {
          "model_module": "@jupyter-widgets/controls",
          "model_name": "DescriptionStyleModel",
          "model_module_version": "1.5.0",
          "state": {
            "_view_name": "StyleView",
            "_model_name": "DescriptionStyleModel",
            "description_width": "",
            "_view_module": "@jupyter-widgets/base",
            "_model_module_version": "1.5.0",
            "_view_count": null,
            "_view_module_version": "1.2.0",
            "_model_module": "@jupyter-widgets/controls"
          }
        },
        "621ffb241a4d408eaae605e8b31dd8c9": {
          "model_module": "@jupyter-widgets/base",
          "model_name": "LayoutModel",
          "model_module_version": "1.2.0",
          "state": {
            "_view_name": "LayoutView",
            "grid_template_rows": null,
            "right": null,
            "justify_content": null,
            "_view_module": "@jupyter-widgets/base",
            "overflow": null,
            "_model_module_version": "1.2.0",
            "_view_count": null,
            "flex_flow": null,
            "width": null,
            "min_width": null,
            "border": null,
            "align_items": null,
            "bottom": null,
            "_model_module": "@jupyter-widgets/base",
            "top": null,
            "grid_column": null,
            "overflow_y": null,
            "overflow_x": null,
            "grid_auto_flow": null,
            "grid_area": null,
            "grid_template_columns": null,
            "flex": null,
            "_model_name": "LayoutModel",
            "justify_items": null,
            "grid_row": null,
            "max_height": null,
            "align_content": null,
            "visibility": null,
            "align_self": null,
            "height": null,
            "min_height": null,
            "padding": null,
            "grid_auto_rows": null,
            "grid_gap": null,
            "max_width": null,
            "order": null,
            "_view_module_version": "1.2.0",
            "grid_template_areas": null,
            "object_position": null,
            "object_fit": null,
            "grid_auto_columns": null,
            "margin": null,
            "display": null,
            "left": null
          }
        },
        "2ccb90f3176d43418a47032ef843f1cb": {
          "model_module": "@jupyter-widgets/controls",
          "model_name": "HBoxModel",
          "model_module_version": "1.5.0",
          "state": {
            "_view_name": "HBoxView",
            "_dom_classes": [],
            "_model_name": "HBoxModel",
            "_view_module": "@jupyter-widgets/controls",
            "_model_module_version": "1.5.0",
            "_view_count": null,
            "_view_module_version": "1.5.0",
            "box_style": "",
            "layout": "IPY_MODEL_59602aa6d606443c805cfea5bc34c113",
            "_model_module": "@jupyter-widgets/controls",
            "children": [
              "IPY_MODEL_ad0c4e5fc46b4599b3c8c7abee99a99f",
              "IPY_MODEL_8716bf79b76e441e9820ed5ffa1460f2",
              "IPY_MODEL_ef73cc507c5b474c8e7de28863461faa"
            ]
          }
        },
        "59602aa6d606443c805cfea5bc34c113": {
          "model_module": "@jupyter-widgets/base",
          "model_name": "LayoutModel",
          "model_module_version": "1.2.0",
          "state": {
            "_view_name": "LayoutView",
            "grid_template_rows": null,
            "right": null,
            "justify_content": null,
            "_view_module": "@jupyter-widgets/base",
            "overflow": null,
            "_model_module_version": "1.2.0",
            "_view_count": null,
            "flex_flow": null,
            "width": null,
            "min_width": null,
            "border": null,
            "align_items": null,
            "bottom": null,
            "_model_module": "@jupyter-widgets/base",
            "top": null,
            "grid_column": null,
            "overflow_y": null,
            "overflow_x": null,
            "grid_auto_flow": null,
            "grid_area": null,
            "grid_template_columns": null,
            "flex": null,
            "_model_name": "LayoutModel",
            "justify_items": null,
            "grid_row": null,
            "max_height": null,
            "align_content": null,
            "visibility": null,
            "align_self": null,
            "height": null,
            "min_height": null,
            "padding": null,
            "grid_auto_rows": null,
            "grid_gap": null,
            "max_width": null,
            "order": null,
            "_view_module_version": "1.2.0",
            "grid_template_areas": null,
            "object_position": null,
            "object_fit": null,
            "grid_auto_columns": null,
            "margin": null,
            "display": null,
            "left": null
          }
        },
        "ad0c4e5fc46b4599b3c8c7abee99a99f": {
          "model_module": "@jupyter-widgets/controls",
          "model_name": "HTMLModel",
          "model_module_version": "1.5.0",
          "state": {
            "_view_name": "HTMLView",
            "style": "IPY_MODEL_fe32e5b63cab4d1884852f943d922138",
            "_dom_classes": [],
            "description": "",
            "_model_name": "HTMLModel",
            "placeholder": "​",
            "_view_module": "@jupyter-widgets/controls",
            "_model_module_version": "1.5.0",
            "value": "",
            "_view_count": null,
            "_view_module_version": "1.5.0",
            "description_tooltip": null,
            "_model_module": "@jupyter-widgets/controls",
            "layout": "IPY_MODEL_aa64ee38a5f145a7ba06ea8290ff784a"
          }
        },
        "8716bf79b76e441e9820ed5ffa1460f2": {
          "model_module": "@jupyter-widgets/controls",
          "model_name": "FloatProgressModel",
          "model_module_version": "1.5.0",
          "state": {
            "_view_name": "ProgressView",
            "style": "IPY_MODEL_6e87ba9cec004954bc9a7174003e2f7d",
            "_dom_classes": [],
            "description": "",
            "_model_name": "FloatProgressModel",
            "bar_style": "success",
            "max": 28881,
            "_view_module": "@jupyter-widgets/controls",
            "_model_module_version": "1.5.0",
            "value": 28881,
            "_view_count": null,
            "_view_module_version": "1.5.0",
            "orientation": "horizontal",
            "min": 0,
            "description_tooltip": null,
            "_model_module": "@jupyter-widgets/controls",
            "layout": "IPY_MODEL_f284cca6bfce41f0abcc40ce4a5ee517"
          }
        },
        "ef73cc507c5b474c8e7de28863461faa": {
          "model_module": "@jupyter-widgets/controls",
          "model_name": "HTMLModel",
          "model_module_version": "1.5.0",
          "state": {
            "_view_name": "HTMLView",
            "style": "IPY_MODEL_e82c97c31639483697b164541814abc9",
            "_dom_classes": [],
            "description": "",
            "_model_name": "HTMLModel",
            "placeholder": "​",
            "_view_module": "@jupyter-widgets/controls",
            "_model_module_version": "1.5.0",
            "value": " 29696/? [00:00&lt;00:00, 8537.99it/s]",
            "_view_count": null,
            "_view_module_version": "1.5.0",
            "description_tooltip": null,
            "_model_module": "@jupyter-widgets/controls",
            "layout": "IPY_MODEL_a5263288cf0b42bc952200a9a3d11d56"
          }
        },
        "fe32e5b63cab4d1884852f943d922138": {
          "model_module": "@jupyter-widgets/controls",
          "model_name": "DescriptionStyleModel",
          "model_module_version": "1.5.0",
          "state": {
            "_view_name": "StyleView",
            "_model_name": "DescriptionStyleModel",
            "description_width": "",
            "_view_module": "@jupyter-widgets/base",
            "_model_module_version": "1.5.0",
            "_view_count": null,
            "_view_module_version": "1.2.0",
            "_model_module": "@jupyter-widgets/controls"
          }
        },
        "aa64ee38a5f145a7ba06ea8290ff784a": {
          "model_module": "@jupyter-widgets/base",
          "model_name": "LayoutModel",
          "model_module_version": "1.2.0",
          "state": {
            "_view_name": "LayoutView",
            "grid_template_rows": null,
            "right": null,
            "justify_content": null,
            "_view_module": "@jupyter-widgets/base",
            "overflow": null,
            "_model_module_version": "1.2.0",
            "_view_count": null,
            "flex_flow": null,
            "width": null,
            "min_width": null,
            "border": null,
            "align_items": null,
            "bottom": null,
            "_model_module": "@jupyter-widgets/base",
            "top": null,
            "grid_column": null,
            "overflow_y": null,
            "overflow_x": null,
            "grid_auto_flow": null,
            "grid_area": null,
            "grid_template_columns": null,
            "flex": null,
            "_model_name": "LayoutModel",
            "justify_items": null,
            "grid_row": null,
            "max_height": null,
            "align_content": null,
            "visibility": null,
            "align_self": null,
            "height": null,
            "min_height": null,
            "padding": null,
            "grid_auto_rows": null,
            "grid_gap": null,
            "max_width": null,
            "order": null,
            "_view_module_version": "1.2.0",
            "grid_template_areas": null,
            "object_position": null,
            "object_fit": null,
            "grid_auto_columns": null,
            "margin": null,
            "display": null,
            "left": null
          }
        },
        "6e87ba9cec004954bc9a7174003e2f7d": {
          "model_module": "@jupyter-widgets/controls",
          "model_name": "ProgressStyleModel",
          "model_module_version": "1.5.0",
          "state": {
            "_view_name": "StyleView",
            "_model_name": "ProgressStyleModel",
            "description_width": "",
            "_view_module": "@jupyter-widgets/base",
            "_model_module_version": "1.5.0",
            "_view_count": null,
            "_view_module_version": "1.2.0",
            "bar_color": null,
            "_model_module": "@jupyter-widgets/controls"
          }
        },
        "f284cca6bfce41f0abcc40ce4a5ee517": {
          "model_module": "@jupyter-widgets/base",
          "model_name": "LayoutModel",
          "model_module_version": "1.2.0",
          "state": {
            "_view_name": "LayoutView",
            "grid_template_rows": null,
            "right": null,
            "justify_content": null,
            "_view_module": "@jupyter-widgets/base",
            "overflow": null,
            "_model_module_version": "1.2.0",
            "_view_count": null,
            "flex_flow": null,
            "width": null,
            "min_width": null,
            "border": null,
            "align_items": null,
            "bottom": null,
            "_model_module": "@jupyter-widgets/base",
            "top": null,
            "grid_column": null,
            "overflow_y": null,
            "overflow_x": null,
            "grid_auto_flow": null,
            "grid_area": null,
            "grid_template_columns": null,
            "flex": null,
            "_model_name": "LayoutModel",
            "justify_items": null,
            "grid_row": null,
            "max_height": null,
            "align_content": null,
            "visibility": null,
            "align_self": null,
            "height": null,
            "min_height": null,
            "padding": null,
            "grid_auto_rows": null,
            "grid_gap": null,
            "max_width": null,
            "order": null,
            "_view_module_version": "1.2.0",
            "grid_template_areas": null,
            "object_position": null,
            "object_fit": null,
            "grid_auto_columns": null,
            "margin": null,
            "display": null,
            "left": null
          }
        },
        "e82c97c31639483697b164541814abc9": {
          "model_module": "@jupyter-widgets/controls",
          "model_name": "DescriptionStyleModel",
          "model_module_version": "1.5.0",
          "state": {
            "_view_name": "StyleView",
            "_model_name": "DescriptionStyleModel",
            "description_width": "",
            "_view_module": "@jupyter-widgets/base",
            "_model_module_version": "1.5.0",
            "_view_count": null,
            "_view_module_version": "1.2.0",
            "_model_module": "@jupyter-widgets/controls"
          }
        },
        "a5263288cf0b42bc952200a9a3d11d56": {
          "model_module": "@jupyter-widgets/base",
          "model_name": "LayoutModel",
          "model_module_version": "1.2.0",
          "state": {
            "_view_name": "LayoutView",
            "grid_template_rows": null,
            "right": null,
            "justify_content": null,
            "_view_module": "@jupyter-widgets/base",
            "overflow": null,
            "_model_module_version": "1.2.0",
            "_view_count": null,
            "flex_flow": null,
            "width": null,
            "min_width": null,
            "border": null,
            "align_items": null,
            "bottom": null,
            "_model_module": "@jupyter-widgets/base",
            "top": null,
            "grid_column": null,
            "overflow_y": null,
            "overflow_x": null,
            "grid_auto_flow": null,
            "grid_area": null,
            "grid_template_columns": null,
            "flex": null,
            "_model_name": "LayoutModel",
            "justify_items": null,
            "grid_row": null,
            "max_height": null,
            "align_content": null,
            "visibility": null,
            "align_self": null,
            "height": null,
            "min_height": null,
            "padding": null,
            "grid_auto_rows": null,
            "grid_gap": null,
            "max_width": null,
            "order": null,
            "_view_module_version": "1.2.0",
            "grid_template_areas": null,
            "object_position": null,
            "object_fit": null,
            "grid_auto_columns": null,
            "margin": null,
            "display": null,
            "left": null
          }
        },
        "a654c44de9c54f109897b28df1c48f31": {
          "model_module": "@jupyter-widgets/controls",
          "model_name": "HBoxModel",
          "model_module_version": "1.5.0",
          "state": {
            "_view_name": "HBoxView",
            "_dom_classes": [],
            "_model_name": "HBoxModel",
            "_view_module": "@jupyter-widgets/controls",
            "_model_module_version": "1.5.0",
            "_view_count": null,
            "_view_module_version": "1.5.0",
            "box_style": "",
            "layout": "IPY_MODEL_aaa133d6074a4be3bed8e3cb74268d5e",
            "_model_module": "@jupyter-widgets/controls",
            "children": [
              "IPY_MODEL_df5bc7c5b01448059c1a06d7991afcd0",
              "IPY_MODEL_3669c3a0572242b3b57b6d84afc67893",
              "IPY_MODEL_573cd4927c4f4ed4851c1f39a1177216"
            ]
          }
        },
        "aaa133d6074a4be3bed8e3cb74268d5e": {
          "model_module": "@jupyter-widgets/base",
          "model_name": "LayoutModel",
          "model_module_version": "1.2.0",
          "state": {
            "_view_name": "LayoutView",
            "grid_template_rows": null,
            "right": null,
            "justify_content": null,
            "_view_module": "@jupyter-widgets/base",
            "overflow": null,
            "_model_module_version": "1.2.0",
            "_view_count": null,
            "flex_flow": null,
            "width": null,
            "min_width": null,
            "border": null,
            "align_items": null,
            "bottom": null,
            "_model_module": "@jupyter-widgets/base",
            "top": null,
            "grid_column": null,
            "overflow_y": null,
            "overflow_x": null,
            "grid_auto_flow": null,
            "grid_area": null,
            "grid_template_columns": null,
            "flex": null,
            "_model_name": "LayoutModel",
            "justify_items": null,
            "grid_row": null,
            "max_height": null,
            "align_content": null,
            "visibility": null,
            "align_self": null,
            "height": null,
            "min_height": null,
            "padding": null,
            "grid_auto_rows": null,
            "grid_gap": null,
            "max_width": null,
            "order": null,
            "_view_module_version": "1.2.0",
            "grid_template_areas": null,
            "object_position": null,
            "object_fit": null,
            "grid_auto_columns": null,
            "margin": null,
            "display": null,
            "left": null
          }
        },
        "df5bc7c5b01448059c1a06d7991afcd0": {
          "model_module": "@jupyter-widgets/controls",
          "model_name": "HTMLModel",
          "model_module_version": "1.5.0",
          "state": {
            "_view_name": "HTMLView",
            "style": "IPY_MODEL_80b688042e78408f9058cf54d43e0942",
            "_dom_classes": [],
            "description": "",
            "_model_name": "HTMLModel",
            "placeholder": "​",
            "_view_module": "@jupyter-widgets/controls",
            "_model_module_version": "1.5.0",
            "value": "",
            "_view_count": null,
            "_view_module_version": "1.5.0",
            "description_tooltip": null,
            "_model_module": "@jupyter-widgets/controls",
            "layout": "IPY_MODEL_c2b67b534ee84110835287c82b8d1620"
          }
        },
        "3669c3a0572242b3b57b6d84afc67893": {
          "model_module": "@jupyter-widgets/controls",
          "model_name": "FloatProgressModel",
          "model_module_version": "1.5.0",
          "state": {
            "_view_name": "ProgressView",
            "style": "IPY_MODEL_fb25f6eed3c1428193608acbb20ac178",
            "_dom_classes": [],
            "description": "",
            "_model_name": "FloatProgressModel",
            "bar_style": "success",
            "max": 1648877,
            "_view_module": "@jupyter-widgets/controls",
            "_model_module_version": "1.5.0",
            "value": 1648877,
            "_view_count": null,
            "_view_module_version": "1.5.0",
            "orientation": "horizontal",
            "min": 0,
            "description_tooltip": null,
            "_model_module": "@jupyter-widgets/controls",
            "layout": "IPY_MODEL_b545a00c5fbd484eb072a0363ed6576f"
          }
        },
        "573cd4927c4f4ed4851c1f39a1177216": {
          "model_module": "@jupyter-widgets/controls",
          "model_name": "HTMLModel",
          "model_module_version": "1.5.0",
          "state": {
            "_view_name": "HTMLView",
            "style": "IPY_MODEL_e300144ec74d413caecdad226f6e1e61",
            "_dom_classes": [],
            "description": "",
            "_model_name": "HTMLModel",
            "placeholder": "​",
            "_view_module": "@jupyter-widgets/controls",
            "_model_module_version": "1.5.0",
            "value": " 1649664/? [00:00&lt;00:00, 9696.08it/s]",
            "_view_count": null,
            "_view_module_version": "1.5.0",
            "description_tooltip": null,
            "_model_module": "@jupyter-widgets/controls",
            "layout": "IPY_MODEL_0e9d83e21955494db5ad7edc654964a8"
          }
        },
        "80b688042e78408f9058cf54d43e0942": {
          "model_module": "@jupyter-widgets/controls",
          "model_name": "DescriptionStyleModel",
          "model_module_version": "1.5.0",
          "state": {
            "_view_name": "StyleView",
            "_model_name": "DescriptionStyleModel",
            "description_width": "",
            "_view_module": "@jupyter-widgets/base",
            "_model_module_version": "1.5.0",
            "_view_count": null,
            "_view_module_version": "1.2.0",
            "_model_module": "@jupyter-widgets/controls"
          }
        },
        "c2b67b534ee84110835287c82b8d1620": {
          "model_module": "@jupyter-widgets/base",
          "model_name": "LayoutModel",
          "model_module_version": "1.2.0",
          "state": {
            "_view_name": "LayoutView",
            "grid_template_rows": null,
            "right": null,
            "justify_content": null,
            "_view_module": "@jupyter-widgets/base",
            "overflow": null,
            "_model_module_version": "1.2.0",
            "_view_count": null,
            "flex_flow": null,
            "width": null,
            "min_width": null,
            "border": null,
            "align_items": null,
            "bottom": null,
            "_model_module": "@jupyter-widgets/base",
            "top": null,
            "grid_column": null,
            "overflow_y": null,
            "overflow_x": null,
            "grid_auto_flow": null,
            "grid_area": null,
            "grid_template_columns": null,
            "flex": null,
            "_model_name": "LayoutModel",
            "justify_items": null,
            "grid_row": null,
            "max_height": null,
            "align_content": null,
            "visibility": null,
            "align_self": null,
            "height": null,
            "min_height": null,
            "padding": null,
            "grid_auto_rows": null,
            "grid_gap": null,
            "max_width": null,
            "order": null,
            "_view_module_version": "1.2.0",
            "grid_template_areas": null,
            "object_position": null,
            "object_fit": null,
            "grid_auto_columns": null,
            "margin": null,
            "display": null,
            "left": null
          }
        },
        "fb25f6eed3c1428193608acbb20ac178": {
          "model_module": "@jupyter-widgets/controls",
          "model_name": "ProgressStyleModel",
          "model_module_version": "1.5.0",
          "state": {
            "_view_name": "StyleView",
            "_model_name": "ProgressStyleModel",
            "description_width": "",
            "_view_module": "@jupyter-widgets/base",
            "_model_module_version": "1.5.0",
            "_view_count": null,
            "_view_module_version": "1.2.0",
            "bar_color": null,
            "_model_module": "@jupyter-widgets/controls"
          }
        },
        "b545a00c5fbd484eb072a0363ed6576f": {
          "model_module": "@jupyter-widgets/base",
          "model_name": "LayoutModel",
          "model_module_version": "1.2.0",
          "state": {
            "_view_name": "LayoutView",
            "grid_template_rows": null,
            "right": null,
            "justify_content": null,
            "_view_module": "@jupyter-widgets/base",
            "overflow": null,
            "_model_module_version": "1.2.0",
            "_view_count": null,
            "flex_flow": null,
            "width": null,
            "min_width": null,
            "border": null,
            "align_items": null,
            "bottom": null,
            "_model_module": "@jupyter-widgets/base",
            "top": null,
            "grid_column": null,
            "overflow_y": null,
            "overflow_x": null,
            "grid_auto_flow": null,
            "grid_area": null,
            "grid_template_columns": null,
            "flex": null,
            "_model_name": "LayoutModel",
            "justify_items": null,
            "grid_row": null,
            "max_height": null,
            "align_content": null,
            "visibility": null,
            "align_self": null,
            "height": null,
            "min_height": null,
            "padding": null,
            "grid_auto_rows": null,
            "grid_gap": null,
            "max_width": null,
            "order": null,
            "_view_module_version": "1.2.0",
            "grid_template_areas": null,
            "object_position": null,
            "object_fit": null,
            "grid_auto_columns": null,
            "margin": null,
            "display": null,
            "left": null
          }
        },
        "e300144ec74d413caecdad226f6e1e61": {
          "model_module": "@jupyter-widgets/controls",
          "model_name": "DescriptionStyleModel",
          "model_module_version": "1.5.0",
          "state": {
            "_view_name": "StyleView",
            "_model_name": "DescriptionStyleModel",
            "description_width": "",
            "_view_module": "@jupyter-widgets/base",
            "_model_module_version": "1.5.0",
            "_view_count": null,
            "_view_module_version": "1.2.0",
            "_model_module": "@jupyter-widgets/controls"
          }
        },
        "0e9d83e21955494db5ad7edc654964a8": {
          "model_module": "@jupyter-widgets/base",
          "model_name": "LayoutModel",
          "model_module_version": "1.2.0",
          "state": {
            "_view_name": "LayoutView",
            "grid_template_rows": null,
            "right": null,
            "justify_content": null,
            "_view_module": "@jupyter-widgets/base",
            "overflow": null,
            "_model_module_version": "1.2.0",
            "_view_count": null,
            "flex_flow": null,
            "width": null,
            "min_width": null,
            "border": null,
            "align_items": null,
            "bottom": null,
            "_model_module": "@jupyter-widgets/base",
            "top": null,
            "grid_column": null,
            "overflow_y": null,
            "overflow_x": null,
            "grid_auto_flow": null,
            "grid_area": null,
            "grid_template_columns": null,
            "flex": null,
            "_model_name": "LayoutModel",
            "justify_items": null,
            "grid_row": null,
            "max_height": null,
            "align_content": null,
            "visibility": null,
            "align_self": null,
            "height": null,
            "min_height": null,
            "padding": null,
            "grid_auto_rows": null,
            "grid_gap": null,
            "max_width": null,
            "order": null,
            "_view_module_version": "1.2.0",
            "grid_template_areas": null,
            "object_position": null,
            "object_fit": null,
            "grid_auto_columns": null,
            "margin": null,
            "display": null,
            "left": null
          }
        },
        "32580356e6a244798ddd366035a9cff5": {
          "model_module": "@jupyter-widgets/controls",
          "model_name": "HBoxModel",
          "model_module_version": "1.5.0",
          "state": {
            "_view_name": "HBoxView",
            "_dom_classes": [],
            "_model_name": "HBoxModel",
            "_view_module": "@jupyter-widgets/controls",
            "_model_module_version": "1.5.0",
            "_view_count": null,
            "_view_module_version": "1.5.0",
            "box_style": "",
            "layout": "IPY_MODEL_fb70f07240244cfbb668116476c7f965",
            "_model_module": "@jupyter-widgets/controls",
            "children": [
              "IPY_MODEL_a083eeb292594d699239ff6b709b7d09",
              "IPY_MODEL_0809214d25624c148cecb86a87516c5b",
              "IPY_MODEL_55538fb4f62d487b92d8995c79051e61"
            ]
          }
        },
        "fb70f07240244cfbb668116476c7f965": {
          "model_module": "@jupyter-widgets/base",
          "model_name": "LayoutModel",
          "model_module_version": "1.2.0",
          "state": {
            "_view_name": "LayoutView",
            "grid_template_rows": null,
            "right": null,
            "justify_content": null,
            "_view_module": "@jupyter-widgets/base",
            "overflow": null,
            "_model_module_version": "1.2.0",
            "_view_count": null,
            "flex_flow": null,
            "width": null,
            "min_width": null,
            "border": null,
            "align_items": null,
            "bottom": null,
            "_model_module": "@jupyter-widgets/base",
            "top": null,
            "grid_column": null,
            "overflow_y": null,
            "overflow_x": null,
            "grid_auto_flow": null,
            "grid_area": null,
            "grid_template_columns": null,
            "flex": null,
            "_model_name": "LayoutModel",
            "justify_items": null,
            "grid_row": null,
            "max_height": null,
            "align_content": null,
            "visibility": null,
            "align_self": null,
            "height": null,
            "min_height": null,
            "padding": null,
            "grid_auto_rows": null,
            "grid_gap": null,
            "max_width": null,
            "order": null,
            "_view_module_version": "1.2.0",
            "grid_template_areas": null,
            "object_position": null,
            "object_fit": null,
            "grid_auto_columns": null,
            "margin": null,
            "display": null,
            "left": null
          }
        },
        "a083eeb292594d699239ff6b709b7d09": {
          "model_module": "@jupyter-widgets/controls",
          "model_name": "HTMLModel",
          "model_module_version": "1.5.0",
          "state": {
            "_view_name": "HTMLView",
            "style": "IPY_MODEL_c5e2a306966d4f1fb4d0523cf72a8d99",
            "_dom_classes": [],
            "description": "",
            "_model_name": "HTMLModel",
            "placeholder": "​",
            "_view_module": "@jupyter-widgets/controls",
            "_model_module_version": "1.5.0",
            "value": "",
            "_view_count": null,
            "_view_module_version": "1.5.0",
            "description_tooltip": null,
            "_model_module": "@jupyter-widgets/controls",
            "layout": "IPY_MODEL_ee9f6beee1a24b17b2272ced8ee4eb7c"
          }
        },
        "0809214d25624c148cecb86a87516c5b": {
          "model_module": "@jupyter-widgets/controls",
          "model_name": "FloatProgressModel",
          "model_module_version": "1.5.0",
          "state": {
            "_view_name": "ProgressView",
            "style": "IPY_MODEL_1fbca72a7b4b4267a8b57d21091cf9e2",
            "_dom_classes": [],
            "description": "",
            "_model_name": "FloatProgressModel",
            "bar_style": "success",
            "max": 4542,
            "_view_module": "@jupyter-widgets/controls",
            "_model_module_version": "1.5.0",
            "value": 4542,
            "_view_count": null,
            "_view_module_version": "1.5.0",
            "orientation": "horizontal",
            "min": 0,
            "description_tooltip": null,
            "_model_module": "@jupyter-widgets/controls",
            "layout": "IPY_MODEL_fda58c073bb34d0096a6057f99cda227"
          }
        },
        "55538fb4f62d487b92d8995c79051e61": {
          "model_module": "@jupyter-widgets/controls",
          "model_name": "HTMLModel",
          "model_module_version": "1.5.0",
          "state": {
            "_view_name": "HTMLView",
            "style": "IPY_MODEL_5888cdc793ca4f279d8679512b36ee88",
            "_dom_classes": [],
            "description": "",
            "_model_name": "HTMLModel",
            "placeholder": "​",
            "_view_module": "@jupyter-widgets/controls",
            "_model_module_version": "1.5.0",
            "value": " 5120/? [00:00&lt;00:00, 76953.36it/s]",
            "_view_count": null,
            "_view_module_version": "1.5.0",
            "description_tooltip": null,
            "_model_module": "@jupyter-widgets/controls",
            "layout": "IPY_MODEL_c35c4b3e374e48b2a806d88674a290d2"
          }
        },
        "c5e2a306966d4f1fb4d0523cf72a8d99": {
          "model_module": "@jupyter-widgets/controls",
          "model_name": "DescriptionStyleModel",
          "model_module_version": "1.5.0",
          "state": {
            "_view_name": "StyleView",
            "_model_name": "DescriptionStyleModel",
            "description_width": "",
            "_view_module": "@jupyter-widgets/base",
            "_model_module_version": "1.5.0",
            "_view_count": null,
            "_view_module_version": "1.2.0",
            "_model_module": "@jupyter-widgets/controls"
          }
        },
        "ee9f6beee1a24b17b2272ced8ee4eb7c": {
          "model_module": "@jupyter-widgets/base",
          "model_name": "LayoutModel",
          "model_module_version": "1.2.0",
          "state": {
            "_view_name": "LayoutView",
            "grid_template_rows": null,
            "right": null,
            "justify_content": null,
            "_view_module": "@jupyter-widgets/base",
            "overflow": null,
            "_model_module_version": "1.2.0",
            "_view_count": null,
            "flex_flow": null,
            "width": null,
            "min_width": null,
            "border": null,
            "align_items": null,
            "bottom": null,
            "_model_module": "@jupyter-widgets/base",
            "top": null,
            "grid_column": null,
            "overflow_y": null,
            "overflow_x": null,
            "grid_auto_flow": null,
            "grid_area": null,
            "grid_template_columns": null,
            "flex": null,
            "_model_name": "LayoutModel",
            "justify_items": null,
            "grid_row": null,
            "max_height": null,
            "align_content": null,
            "visibility": null,
            "align_self": null,
            "height": null,
            "min_height": null,
            "padding": null,
            "grid_auto_rows": null,
            "grid_gap": null,
            "max_width": null,
            "order": null,
            "_view_module_version": "1.2.0",
            "grid_template_areas": null,
            "object_position": null,
            "object_fit": null,
            "grid_auto_columns": null,
            "margin": null,
            "display": null,
            "left": null
          }
        },
        "1fbca72a7b4b4267a8b57d21091cf9e2": {
          "model_module": "@jupyter-widgets/controls",
          "model_name": "ProgressStyleModel",
          "model_module_version": "1.5.0",
          "state": {
            "_view_name": "StyleView",
            "_model_name": "ProgressStyleModel",
            "description_width": "",
            "_view_module": "@jupyter-widgets/base",
            "_model_module_version": "1.5.0",
            "_view_count": null,
            "_view_module_version": "1.2.0",
            "bar_color": null,
            "_model_module": "@jupyter-widgets/controls"
          }
        },
        "fda58c073bb34d0096a6057f99cda227": {
          "model_module": "@jupyter-widgets/base",
          "model_name": "LayoutModel",
          "model_module_version": "1.2.0",
          "state": {
            "_view_name": "LayoutView",
            "grid_template_rows": null,
            "right": null,
            "justify_content": null,
            "_view_module": "@jupyter-widgets/base",
            "overflow": null,
            "_model_module_version": "1.2.0",
            "_view_count": null,
            "flex_flow": null,
            "width": null,
            "min_width": null,
            "border": null,
            "align_items": null,
            "bottom": null,
            "_model_module": "@jupyter-widgets/base",
            "top": null,
            "grid_column": null,
            "overflow_y": null,
            "overflow_x": null,
            "grid_auto_flow": null,
            "grid_area": null,
            "grid_template_columns": null,
            "flex": null,
            "_model_name": "LayoutModel",
            "justify_items": null,
            "grid_row": null,
            "max_height": null,
            "align_content": null,
            "visibility": null,
            "align_self": null,
            "height": null,
            "min_height": null,
            "padding": null,
            "grid_auto_rows": null,
            "grid_gap": null,
            "max_width": null,
            "order": null,
            "_view_module_version": "1.2.0",
            "grid_template_areas": null,
            "object_position": null,
            "object_fit": null,
            "grid_auto_columns": null,
            "margin": null,
            "display": null,
            "left": null
          }
        },
        "5888cdc793ca4f279d8679512b36ee88": {
          "model_module": "@jupyter-widgets/controls",
          "model_name": "DescriptionStyleModel",
          "model_module_version": "1.5.0",
          "state": {
            "_view_name": "StyleView",
            "_model_name": "DescriptionStyleModel",
            "description_width": "",
            "_view_module": "@jupyter-widgets/base",
            "_model_module_version": "1.5.0",
            "_view_count": null,
            "_view_module_version": "1.2.0",
            "_model_module": "@jupyter-widgets/controls"
          }
        },
        "c35c4b3e374e48b2a806d88674a290d2": {
          "model_module": "@jupyter-widgets/base",
          "model_name": "LayoutModel",
          "model_module_version": "1.2.0",
          "state": {
            "_view_name": "LayoutView",
            "grid_template_rows": null,
            "right": null,
            "justify_content": null,
            "_view_module": "@jupyter-widgets/base",
            "overflow": null,
            "_model_module_version": "1.2.0",
            "_view_count": null,
            "flex_flow": null,
            "width": null,
            "min_width": null,
            "border": null,
            "align_items": null,
            "bottom": null,
            "_model_module": "@jupyter-widgets/base",
            "top": null,
            "grid_column": null,
            "overflow_y": null,
            "overflow_x": null,
            "grid_auto_flow": null,
            "grid_area": null,
            "grid_template_columns": null,
            "flex": null,
            "_model_name": "LayoutModel",
            "justify_items": null,
            "grid_row": null,
            "max_height": null,
            "align_content": null,
            "visibility": null,
            "align_self": null,
            "height": null,
            "min_height": null,
            "padding": null,
            "grid_auto_rows": null,
            "grid_gap": null,
            "max_width": null,
            "order": null,
            "_view_module_version": "1.2.0",
            "grid_template_areas": null,
            "object_position": null,
            "object_fit": null,
            "grid_auto_columns": null,
            "margin": null,
            "display": null,
            "left": null
          }
        }
      }
    }
  },
  "cells": [
    {
      "cell_type": "markdown",
      "source": [
        "# **Build your first neural network for digit recognition and learn about hyperparameter tuning**\n",
        "\n",
        "This is a first in a series of deep learning projects. \n",
        "\n",
        "In this first step we'll build a simple neural network that performs a digit recognition (you input an image containing a digit and it predicts what that digit is). And more importantly we'll be introduced to pytorch and explore its main modules.\n",
        "\n",
        "Just before we dive into it I may need to give a general overview of deep learning and neural networks. Although I assume that the reader has a background on this field it's useful to lay out the things we're doing for better readability.\n",
        "\n",
        "### What is deep learning ? \n",
        "\n",
        "So deep learning can be considered as a subfield of machine learning, and neural networks are the backbone of deep learning. And machine learning in general is about giving machines the ability to learn through experience, a common way to differentiate machine learning and traditional programming is to say that: \n",
        "  - in classical programming we provide the machine with the rules (that are human produced), and in execution time we give the machine an input and it provides us with the desired output.\n",
        "  - Whereas in machine learning, we provide the machine with a set of examples of inputs and desired outputs that it can learn from. Using those examples the machine produces the rules for itself and that it can hopefully use in the future.\n",
        "\n",
        "![traditioanl programming vs machine learning](https://lucid.app/publicSegments/view/7c5b473f-07f5-468d-ae7e-271b3e0aaec0/image.png)\n",
        "\n",
        "As we said deep learning is no different. So let's just focus on DL since it's the our main topic.\n",
        "\n",
        "Now on every DL algorithm we'll find 4 main components that are absolutely crucial. And these components are:\n",
        "  - the data, which is the set of examples that our algorithm learns from. Generally (not always) comes as a form of input-output pairs.\n",
        "  - the model which is a very important part. the model put simply is nothing but a function that maps our input data into the output. Inside the model are parameters that we can tweak, the output for the same input changes according to these parameters. Following our past logic these parameters are **the rules** of our algorithm (although they're nothing but numbers).\n",
        "  - The criterion function. And what this function does basicaly is that it can compare between two models or indicate to us the performance of our model. It compares the output of our model with the desired output in our data and provides us with a score in the form of a single number that we aim to minimize. We can call it the judge.\n",
        "  - And finally comes the learning algorithm (the optimizer). If the data is the fuel then this is the engine. It combines all the previous parts, using the data and the criterion function it improves the model (by changing the parameters) to allow our model to give better results on the training data. \n",
        "\n",
        "\n",
        "Throughout the notebook we'll be working on the mnist dataset to train and test our models. Mnist is a very popular dataset and widely used in machine learning.\n",
        "So let's start of by preparing our dataset."
      ],
      "metadata": {
        "id": "oKzfqRN6-6n2"
      }
    },
    {
      "cell_type": "code",
      "source": [
        "#import all the necessary libraries\n",
        "import torch as th\n",
        "import torch.nn as nn\n",
        "import torch.nn.functional as F\n",
        "\n",
        "import numpy as np\n",
        "import pandas as pd\n",
        "import matplotlib.pyplot as plt\n",
        "\n",
        "import math"
      ],
      "metadata": {
        "id": "01VgSyVzCJLw"
      },
      "execution_count": 1,
      "outputs": []
    },
    {
      "cell_type": "markdown",
      "source": [
        "## 1. Import the dataset:\n",
        "\n",
        "\n",
        "\n",
        "\n",
        "\n",
        "\n",
        "\n"
      ],
      "metadata": {
        "id": "A33tLyL8AYhL"
      }
    },
    {
      "cell_type": "code",
      "source": [
        "import torchvision.transforms as transforms\n",
        "import torchvision.datasets as datasets\n",
        "\n",
        "#we can find the dataset in datasets module in torchvision, we have a training and test data\n",
        "root = './data'\n",
        "download = True\n",
        "train_dataset = datasets.MNIST(root=root, train=True, transform=transforms.ToTensor(), download=download)\n",
        "test_dataset = datasets.MNIST(root=root, train=False, transform=transforms.ToTensor(), download=download)\n",
        "\n",
        "print(train_dataset)\n",
        "\n",
        "#each data row consists of the input in the form of 28x28 grid pixel and the label which is the digit number\n",
        "print(\"\\ndata point shape:\")\n",
        "print(train_dataset[0][0].size())\n",
        "print()\n",
        "\n",
        "print(test_dataset)"
      ],
      "metadata": {
        "colab": {
          "base_uri": "https://localhost:8080/",
          "height": 721,
          "referenced_widgets": [
            "fc4ecad54d844cf6bf49d07cba116d1e",
            "d116b1d913ee4db29e9573319f5e0d64",
            "0dc159a2b13b493c86863a2a73fc0984",
            "2534e512936f4423b7d0832c0da4b702",
            "7ed59ef6bf62422b8c5522b1f931540e",
            "b044af12344d4f0e9cdf1f8674faf839",
            "27d1b34bcbf44ae28d47080927941a53",
            "e9fd3c85c5ee448dbe83edb08d8b7640",
            "6ec1fbe8507a451885294c7c3636d270",
            "cb6f27f5fd90401d9291745770c3fbf2",
            "621ffb241a4d408eaae605e8b31dd8c9",
            "2ccb90f3176d43418a47032ef843f1cb",
            "59602aa6d606443c805cfea5bc34c113",
            "ad0c4e5fc46b4599b3c8c7abee99a99f",
            "8716bf79b76e441e9820ed5ffa1460f2",
            "ef73cc507c5b474c8e7de28863461faa",
            "fe32e5b63cab4d1884852f943d922138",
            "aa64ee38a5f145a7ba06ea8290ff784a",
            "6e87ba9cec004954bc9a7174003e2f7d",
            "f284cca6bfce41f0abcc40ce4a5ee517",
            "e82c97c31639483697b164541814abc9",
            "a5263288cf0b42bc952200a9a3d11d56",
            "a654c44de9c54f109897b28df1c48f31",
            "aaa133d6074a4be3bed8e3cb74268d5e",
            "df5bc7c5b01448059c1a06d7991afcd0",
            "3669c3a0572242b3b57b6d84afc67893",
            "573cd4927c4f4ed4851c1f39a1177216",
            "80b688042e78408f9058cf54d43e0942",
            "c2b67b534ee84110835287c82b8d1620",
            "fb25f6eed3c1428193608acbb20ac178",
            "b545a00c5fbd484eb072a0363ed6576f",
            "e300144ec74d413caecdad226f6e1e61",
            "0e9d83e21955494db5ad7edc654964a8",
            "32580356e6a244798ddd366035a9cff5",
            "fb70f07240244cfbb668116476c7f965",
            "a083eeb292594d699239ff6b709b7d09",
            "0809214d25624c148cecb86a87516c5b",
            "55538fb4f62d487b92d8995c79051e61",
            "c5e2a306966d4f1fb4d0523cf72a8d99",
            "ee9f6beee1a24b17b2272ced8ee4eb7c",
            "1fbca72a7b4b4267a8b57d21091cf9e2",
            "fda58c073bb34d0096a6057f99cda227",
            "5888cdc793ca4f279d8679512b36ee88",
            "c35c4b3e374e48b2a806d88674a290d2"
          ]
        },
        "id": "gnI7lm11-77Y",
        "outputId": "60bffd0b-bc91-4779-99bf-7769b3dff3f3"
      },
      "execution_count": 2,
      "outputs": [
        {
          "output_type": "stream",
          "name": "stdout",
          "text": [
            "Downloading http://yann.lecun.com/exdb/mnist/train-images-idx3-ubyte.gz\n",
            "Downloading http://yann.lecun.com/exdb/mnist/train-images-idx3-ubyte.gz to ./data/MNIST/raw/train-images-idx3-ubyte.gz\n"
          ]
        },
        {
          "output_type": "display_data",
          "data": {
            "application/vnd.jupyter.widget-view+json": {
              "model_id": "fc4ecad54d844cf6bf49d07cba116d1e",
              "version_minor": 0,
              "version_major": 2
            },
            "text/plain": [
              "  0%|          | 0/9912422 [00:00<?, ?it/s]"
            ]
          },
          "metadata": {}
        },
        {
          "output_type": "stream",
          "name": "stdout",
          "text": [
            "Extracting ./data/MNIST/raw/train-images-idx3-ubyte.gz to ./data/MNIST/raw\n",
            "\n",
            "Downloading http://yann.lecun.com/exdb/mnist/train-labels-idx1-ubyte.gz\n",
            "Downloading http://yann.lecun.com/exdb/mnist/train-labels-idx1-ubyte.gz to ./data/MNIST/raw/train-labels-idx1-ubyte.gz\n"
          ]
        },
        {
          "output_type": "display_data",
          "data": {
            "application/vnd.jupyter.widget-view+json": {
              "model_id": "2ccb90f3176d43418a47032ef843f1cb",
              "version_minor": 0,
              "version_major": 2
            },
            "text/plain": [
              "  0%|          | 0/28881 [00:00<?, ?it/s]"
            ]
          },
          "metadata": {}
        },
        {
          "output_type": "stream",
          "name": "stdout",
          "text": [
            "Extracting ./data/MNIST/raw/train-labels-idx1-ubyte.gz to ./data/MNIST/raw\n",
            "\n",
            "Downloading http://yann.lecun.com/exdb/mnist/t10k-images-idx3-ubyte.gz\n",
            "Downloading http://yann.lecun.com/exdb/mnist/t10k-images-idx3-ubyte.gz to ./data/MNIST/raw/t10k-images-idx3-ubyte.gz\n"
          ]
        },
        {
          "output_type": "display_data",
          "data": {
            "application/vnd.jupyter.widget-view+json": {
              "model_id": "a654c44de9c54f109897b28df1c48f31",
              "version_minor": 0,
              "version_major": 2
            },
            "text/plain": [
              "  0%|          | 0/1648877 [00:00<?, ?it/s]"
            ]
          },
          "metadata": {}
        },
        {
          "output_type": "stream",
          "name": "stdout",
          "text": [
            "Extracting ./data/MNIST/raw/t10k-images-idx3-ubyte.gz to ./data/MNIST/raw\n",
            "\n",
            "Downloading http://yann.lecun.com/exdb/mnist/t10k-labels-idx1-ubyte.gz\n",
            "Downloading http://yann.lecun.com/exdb/mnist/t10k-labels-idx1-ubyte.gz to ./data/MNIST/raw/t10k-labels-idx1-ubyte.gz\n"
          ]
        },
        {
          "output_type": "display_data",
          "data": {
            "application/vnd.jupyter.widget-view+json": {
              "model_id": "32580356e6a244798ddd366035a9cff5",
              "version_minor": 0,
              "version_major": 2
            },
            "text/plain": [
              "  0%|          | 0/4542 [00:00<?, ?it/s]"
            ]
          },
          "metadata": {}
        },
        {
          "output_type": "stream",
          "name": "stdout",
          "text": [
            "Extracting ./data/MNIST/raw/t10k-labels-idx1-ubyte.gz to ./data/MNIST/raw\n",
            "\n",
            "Dataset MNIST\n",
            "    Number of datapoints: 60000\n",
            "    Root location: ./data\n",
            "    Split: Train\n",
            "    StandardTransform\n",
            "Transform: ToTensor()\n",
            "\n",
            "data point shape:\n",
            "torch.Size([1, 28, 28])\n",
            "\n",
            "Dataset MNIST\n",
            "    Number of datapoints: 10000\n",
            "    Root location: ./data\n",
            "    Split: Test\n",
            "    StandardTransform\n",
            "Transform: ToTensor()\n"
          ]
        }
      ]
    },
    {
      "cell_type": "code",
      "source": [
        "#let's take a look at some examples of our dataset\n",
        "\n",
        "fig, axs = plt.subplots(2, 2)\n",
        "axs[0, 0].imshow(train_dataset[0][0][0])\n",
        "axs[0, 1].imshow(train_dataset[1][0][0])\n",
        "axs[1, 0].imshow(train_dataset[2][0][0])\n",
        "axs[1, 1].imshow(train_dataset[3][0][0])\n",
        "\n",
        "plt.show()"
      ],
      "metadata": {
        "colab": {
          "base_uri": "https://localhost:8080/",
          "height": 268
        },
        "id": "anBfv1eDD1n7",
        "outputId": "1ebd6dc3-468a-4ecb-a21d-0d3a0ea9eca8"
      },
      "execution_count": 3,
      "outputs": [
        {
          "output_type": "display_data",
          "data": {
            "image/png": "[encoded data removed]",
            "text/plain": [
              "<Figure size 432x288 with 4 Axes>"
            ]
          },
          "metadata": {
            "needs_background": "light"
          }
        }
      ]
    },
    {
      "cell_type": "code",
      "source": [
        "# set up our data loaders\n",
        "# data loaders in pytorch helps us iterate through our data in batches \n",
        "\n",
        "batch_size = 100\n",
        "\n",
        "train_loader = th.utils.data.DataLoader(\n",
        "                 dataset=train_dataset,\n",
        "                 batch_size=batch_size,\n",
        "                 shuffle=True)\n",
        "test_loader = th.utils.data.DataLoader(\n",
        "                dataset=test_dataset,\n",
        "                batch_size=batch_size,\n",
        "                shuffle=False)"
      ],
      "metadata": {
        "id": "vUkf86N0GW9u"
      },
      "execution_count": 4,
      "outputs": []
    },
    {
      "cell_type": "markdown",
      "source": [
        "## 2. The model\n",
        "\n",
        "We start by creating the simplest of models which is logistic regression.\n",
        "\n",
        "In pytorch, to create your model you need to create a class that heritates from the nn.Module.\n",
        "\n",
        "in the init function we set the model parameters.\n",
        "In this case logistic regression is basically a linear transformation from the input space to our output space. so our parameters consist of a matrix of dimension input_dim x output_dim and a bias vector of length output_dim.\n",
        "\n",
        "nn.Parameter can be seen as a wrapper that lets pytorch know that this is a model parameter so that we can later change it in the learning process\n",
        "\n",
        "The forward function is the function that maps our input to the output using our model parameters. In our case it's a matrix multiplication of the input to which we add the bias terms."
      ],
      "metadata": {
        "id": "NaL8xyOWG9sD"
      }
    },
    {
      "cell_type": "code",
      "source": [
        "class LogisticRegression(nn.Module):\n",
        "  def __init__(self, input_dim, output_dim):\n",
        "      super().__init__()\n",
        "      self.weights = nn.Parameter(th.randn(input_dim, output_dim) / math.sqrt(input_dim))\n",
        "      self.bias = nn.Parameter(th.zeros(output_dim))\n",
        "\n",
        "  def forward(self, xb):\n",
        "      return xb @ self.weights + self.bias"
      ],
      "metadata": {
        "id": "ODZPZJIjGyAx"
      },
      "execution_count": 5,
      "outputs": []
    },
    {
      "cell_type": "code",
      "source": [
        "#let's initialize our first model\n",
        "\n",
        "#each image is represented by 28x28 pixels\n",
        "input_dim = 28*28 \n",
        "\n",
        "#the output is a vector of probabilities which indicates to which label we assign the result\n",
        "#in our case we can have 10 possible outputs\n",
        "output_dim = 10 \n",
        "\n",
        "logistic_regression = LogisticRegression(input_dim, output_dim)"
      ],
      "metadata": {
        "id": "q3zRAMPpIRfe"
      },
      "execution_count": 6,
      "outputs": []
    },
    {
      "cell_type": "markdown",
      "source": [
        "## 3. The criterion and the optimizer\n",
        "\n",
        "Pytorch offers different loss functions, or the criterion as we call them. Each suits different problems and situations\n",
        "\n",
        "We should note that in the deep learning realm, all the optimizers lays around one fundamental concept which is the gradients. By computing the gradient of the parameters according to the criterion function it updates the model.\n",
        "\n",
        "Pytorch offers different set of optimizers that we'll explore more later."
      ],
      "metadata": {
        "id": "88V7UPrWuPkB"
      }
    },
    {
      "cell_type": "code",
      "source": [
        "#we use the cross entropy loss\n",
        "criterion = nn.CrossEntropyLoss()\n",
        "\n",
        "#The optimizer takes the model parameters as an input\n",
        "optimizer = th.optim.SGD(logistic_regression.parameters(), lr=0.01)\n",
        "\n"
      ],
      "metadata": {
        "id": "wZjG_0bHIm0z"
      },
      "execution_count": 7,
      "outputs": []
    },
    {
      "cell_type": "markdown",
      "source": [
        "## 4. Training and evaluation\n",
        "\n",
        "Now comes the learning part.\n",
        "\n",
        "we iterate through our dataset in batches using our dataloader.\n",
        "in each iteration we sample an output through our model, we calculate our loss using the criterion function. Using this loss the optimizer will update the model.\n",
        "\n",
        "we do this through different epochs. And at each epoch we also evaluate the performance of our model by calculating the accuracy of the predictions (number of correct predictions / number of predictions)"
      ],
      "metadata": {
        "id": "QRaazGFDvpDm"
      }
    },
    {
      "cell_type": "code",
      "source": [
        "from tqdm import tqdm\n",
        "\n",
        "EPOCHS = 25\n",
        "loop = tqdm(range(EPOCHS), leave=True)\n",
        "\n",
        "# We keep track of the loss history and error (100 - accuracy) throughout training\n",
        "loss_history = []\n",
        "error_history = []\n",
        "accuracy = 0\n",
        "for epoch in loop:\n",
        "  loop.set_description(f'Epoch {epoch}')\n",
        "  for imgs, labels in train_loader:\n",
        "    optimizer.zero_grad()\n",
        "\n",
        "    # sample the outputs\n",
        "    outputs = logistic_regression(imgs.view(-1, input_dim))\n",
        "    # calculate our loss\n",
        "    loss = criterion(outputs, labels)\n",
        "    # this calculates the gradients\n",
        "    loss.backward()\n",
        "    # the optimizer updates our model\n",
        "    optimizer.step()\n",
        "    loss_history.append(loss.item())\n",
        "    loop.set_postfix(loss=loss.item(), accuracy=accuracy)\n",
        "\n",
        "  # calculate accuracy on test set\n",
        "  correct = 0\n",
        "  for imgs, labels in test_loader:\n",
        "    outputs = logistic_regression(imgs.view(-1, input_dim))\n",
        "    #get the predictions\n",
        "    predicted = th.argmax(outputs.data, 1)\n",
        "    # calculate the number of correct predictions\n",
        "    correct += (predicted == labels).sum()\n",
        "\n",
        "  accuracy = 100 * correct/len(test_dataset)\n",
        "  error_history.append(100 - accuracy.item())\n",
        "  loop.set_postfix(loss=loss.item(), accuracy=accuracy.item())"
      ],
      "metadata": {
        "colab": {
          "base_uri": "https://localhost:8080/"
        },
        "id": "bwwj6NHbJp7L",
        "outputId": "80b194d1-5eee-4353-9623-508cb02fa6f5"
      },
      "execution_count": null,
      "outputs": [
        {
          "output_type": "stream",
          "name": "stderr",
          "text": [
            "Epoch 24: 100%|██████████| 25/25 [04:32<00:00, 10.89s/it, accuracy=91.4, loss=0.322]\n"
          ]
        }
      ]
    },
    {
      "cell_type": "code",
      "source": [
        "fig, (ax1, ax2) = plt.subplots(1, 2, figsize=(18,5))\n",
        "ax1.plot(loss_history)\n",
        "ax1.set_title(\"loss_history\")\n",
        "ax2.plot(error_history)\n",
        "ax2.set_title(\"error on test set history\")\n",
        "\n",
        "plt.show()"
      ],
      "metadata": {
        "colab": {
          "base_uri": "https://localhost:8080/",
          "height": 336
        },
        "id": "zqmx_ECYNzRw",
        "outputId": "7c4aa3ae-a415-4bef-e8a7-68a28c602efa"
      },
      "execution_count": null,
      "outputs": [
        {
          "output_type": "display_data",
          "data": {
            "image/png": "[encoded data removed]",
            "text/plain": [
              "<Figure size 1080x360 with 2 Axes>"
            ]
          },
          "metadata": {
            "needs_background": "light"
          }
        }
      ]
    },
    {
      "cell_type": "markdown",
      "source": [
        "We see that with a logistic regression model we hit a performance of **91%** which is already good, knowing that we achieve that using only a linear transformation of the input to the output. It's also interesting to see in the graphs how the training happens through iterations and how the performance improves."
      ],
      "metadata": {
        "id": "QCajyFWDRbIA"
      }
    },
    {
      "cell_type": "markdown",
      "source": [
        "## Neural networks\n",
        "\n",
        "Now that we had our first touch with the full stack of a DL stack (with a very simple model, in fact logistic regression isn't even considered as part of DL but ML). Now we'll jump to neural networks.\n",
        "\n",
        "So what is a neural network anyway?\n",
        "\n",
        "A neural network is simply a sequence of linear transformations. We begin from our input, we perform these linear transformations throughout different layers to get what we call hidden representations. After each layer we pass the result through an activation function, which is just a non-linear function, its purpose is to break the linearity. If we don't break the linearity our whole model turns into one simple liner transformation (just like logistic regression), which is not what we want. \n",
        "And we do this until we arrive to the final layer which is the output space.\n",
        "\n",
        "![Neural networks](https://miro.medium.com/max/1100/1*YgJ6SYO7byjfCmt5uV0PmA.png)\n",
        "\n",
        "The intuition behind all of this is that at each layer we get a better representation of the input data. A neural network can help us approximate more and very complex functions than what simple logistic regression model can, which is its power.\n",
        "\n",
        "Pytorch has the Linear class which applies these linear transformations (we don't need to do them ourselves like in the logistic regression example), and provides us with different activation functions."
      ],
      "metadata": {
        "id": "mA4DGz8i0d3n"
      }
    },
    {
      "cell_type": "code",
      "source": [
        "#we'll build a neural network with only one hidden layer\n",
        "class NeuralNet(nn.Module):\n",
        "  def __init__(self, input_dim, hidden_size, output_dim):\n",
        "    super().__init__()\n",
        "    self.linear1 = nn.Linear(input_dim, hidden_size)\n",
        "    self.linear2 = nn.Linear(hidden_size, output_dim)\n",
        "    self.activ = nn.Sigmoid()\n",
        "\n",
        "  def forward(self, x):\n",
        "    a = self.linear1(x)\n",
        "    a = self.activ(a)\n",
        "    output = self.linear2(a)\n",
        "    return output"
      ],
      "metadata": {
        "id": "Uq1rbESEOm6e"
      },
      "execution_count": 8,
      "outputs": []
    },
    {
      "cell_type": "code",
      "source": [
        "hidden_size = 128\n",
        "net = NeuralNet(input_dim, hidden_size, output_dim)\n",
        "\n",
        "#the optimizer and the criterion will remain the same only the model changes\n",
        "optimizer = th.optim.SGD(net.parameters(), lr=0.01)"
      ],
      "metadata": {
        "id": "0W8Gqbi-S2jU"
      },
      "execution_count": 9,
      "outputs": []
    },
    {
      "cell_type": "code",
      "source": [
        "#notice how most of things don't change, only our model changes\n",
        "\n",
        "EPOCHS = 25\n",
        "loop = tqdm(range(EPOCHS), leave=True)\n",
        "\n",
        "nn_loss_history = []\n",
        "nn_error_history = []\n",
        "nn_accuracy = 0\n",
        "for epoch in loop:\n",
        "  loop.set_description(f'Epoch {epoch}')\n",
        "  for imgs, labels in train_loader:\n",
        "    optimizer.zero_grad()\n",
        "\n",
        "    outputs = net(imgs.view(-1, input_dim))\n",
        "    loss = criterion(outputs, labels)\n",
        "    loss.backward()\n",
        "    optimizer.step()\n",
        "    nn_loss_history.append(loss.item())\n",
        "    loop.set_postfix(loss=loss.item(), accuracy=nn_accuracy)\n",
        "\n",
        "  # calculate accuracy on test set\n",
        "  correct = 0\n",
        "  for imgs, labels in test_loader:\n",
        "    outputs = net(imgs.view(-1, input_dim))\n",
        "    predicted = th.argmax(outputs.data, 1)\n",
        "    correct += (predicted == labels).sum()\n",
        "\n",
        "  nn_accuracy = 100 * correct/len(test_dataset)\n",
        "  nn_error_history.append(100 - nn_accuracy.item())\n",
        "  loop.set_postfix(loss=loss.item(), accuracy=nn_accuracy.item())"
      ],
      "metadata": {
        "colab": {
          "base_uri": "https://localhost:8080/"
        },
        "id": "_a4MnTBRUJd_",
        "outputId": "06d14683-f838-4058-e939-a42c39129419"
      },
      "execution_count": null,
      "outputs": [
        {
          "output_type": "stream",
          "name": "stderr",
          "text": [
            "Epoch 24: 100%|██████████| 25/25 [04:27<00:00, 10.69s/it, accuracy=90.5, loss=0.467]\n"
          ]
        }
      ]
    },
    {
      "cell_type": "code",
      "source": [
        "fig, (ax1, ax2) = plt.subplots(1, 2, figsize=(18,5))\n",
        "ax1.plot(nn_loss_history)\n",
        "ax1.set_title(\"loss_history\")\n",
        "ax2.plot(nn_error_history)\n",
        "ax2.set_title(\"error on test set history\")\n",
        "\n",
        "plt.show()"
      ],
      "metadata": {
        "colab": {
          "base_uri": "https://localhost:8080/",
          "height": 336
        },
        "id": "1GIKO4cIUoXe",
        "outputId": "a39f8682-299f-4209-a6a9-74d7bcf5365e"
      },
      "execution_count": null,
      "outputs": [
        {
          "output_type": "display_data",
          "data": {
            "image/png": "[encoded data removed]",
            "text/plain": [
              "<Figure size 1296x360 with 2 Axes>"
            ]
          },
          "metadata": {
            "needs_background": "light"
          }
        }
      ]
    },
    {
      "cell_type": "markdown",
      "source": [
        "Theoraticaly the neural network should improve the performance, it's not what we notice in this case. It even decreased.\n",
        "\n",
        "In the following we'll still stick to the same architecture, with only one hidden layer. Because we can change our ANN (artificial neural network) architecture to have multiple hidden layers and we can see if it gives better results, but it's not what we'll do.\n",
        "\n",
        "This will allow us to see how neural networks can improve by different techniques and hyperparameter tuning.\n",
        "\n",
        "## And what are hyperparameters?\n",
        "Hyperparameters are a set of parameters that are inputs to our algorithm during training (they're parameters that the algorithms doesn't learn). So it's up to us to set them right.\n",
        "\n",
        "For example, the one that we'll start with is the learning rate. And this parameter we provide for the optimizer and which indicates the rate at which our model learns.\n",
        "\n",
        "What we can do is try different learning rate values and pick the best option. This way we can hopefully have a good learning rate that'll allow the model to learn quickly and well (reach convergence and optimal solution)."
      ],
      "metadata": {
        "id": "FTUPPTUSaZQc"
      }
    },
    {
      "cell_type": "code",
      "source": [
        "net1 = NeuralNet(input_dim, hidden_size, output_dim)\n",
        "optimizer1 = th.optim.SGD(net1.parameters(), lr=0.1)\n",
        "\n",
        "net2 = NeuralNet(input_dim, hidden_size, output_dim)\n",
        "optimizer2 = th.optim.SGD(net2.parameters(), lr=0.01)\n",
        "\n",
        "net3 = NeuralNet(input_dim, hidden_size, output_dim)\n",
        "optimizer3 = th.optim.SGD(net3.parameters(), lr=0.001)\n",
        "\n",
        "#lastly we'll explore if setting up a learning rate decay helps\n",
        "#learning rate decay is basically decreasing the value of learning rate through time\n",
        "net4 = NeuralNet(input_dim, hidden_size, output_dim)\n",
        "optimizer4 = th.optim.SGD(net4.parameters(), lr=0.1)\n",
        "scheduler = th.optim.lr_scheduler.StepLR(optimizer4, step_size=5, gamma=0.2)"
      ],
      "metadata": {
        "id": "gTXgsLs7U2jy"
      },
      "execution_count": null,
      "outputs": []
    },
    {
      "cell_type": "code",
      "source": [
        "EPOCHS = 25\n",
        "loop = tqdm(range(EPOCHS), leave=True)\n",
        "\n",
        "loss1_history = []\n",
        "loss2_history = []\n",
        "loss3_history = []\n",
        "loss4_history = []\n",
        "for epoch in loop:\n",
        "  loop.set_description(f'Epoch {epoch}')\n",
        "\n",
        "  losses1 = []\n",
        "  losses2 = []\n",
        "  losses3 = []\n",
        "  losses4 = []\n",
        "  for imgs, labels in train_loader:\n",
        "    optimizer1.zero_grad()\n",
        "    optimizer2.zero_grad()\n",
        "    optimizer3.zero_grad()\n",
        "    optimizer4.zero_grad()\n",
        "\n",
        "    outputs1 = net1(imgs.view(-1, input_dim))\n",
        "    loss1 = criterion(outputs1, labels)\n",
        "    loss1.backward()\n",
        "    optimizer1.step()\n",
        "    losses1.append(loss1.item())\n",
        "\n",
        "    outputs2 = net2(imgs.view(-1, input_dim))\n",
        "    loss2 = criterion(outputs2, labels)\n",
        "    loss2.backward()\n",
        "    optimizer2.step()\n",
        "    losses2.append(loss2.item())\n",
        "\n",
        "    outputs3 = net3(imgs.view(-1, input_dim))\n",
        "    loss3 = criterion(outputs3, labels)\n",
        "    loss3.backward()\n",
        "    optimizer3.step()\n",
        "    losses3.append(loss3.item())\n",
        "\n",
        "    outputs4 = net4(imgs.view(-1, input_dim))\n",
        "    loss4 = criterion(outputs4, labels)\n",
        "    loss4.backward()\n",
        "    optimizer4.step()\n",
        "    losses4.append(loss4.item())\n",
        "\n",
        "    loop.set_postfix(loss1=loss1.item(), loss2=loss2.item(), loss3=loss3.item(), loss4=loss4.item())\n",
        "\n",
        "  scheduler.step()\n",
        "\n",
        "  loss1_history.append(np.mean(losses1))\n",
        "  loss2_history.append(np.mean(losses2))\n",
        "  loss3_history.append(np.mean(losses3))\n",
        "  loss4_history.append(np.mean(losses4))"
      ],
      "metadata": {
        "colab": {
          "base_uri": "https://localhost:8080/"
        },
        "id": "dzWEXKBahGXW",
        "outputId": "eddb9dee-968d-42e4-b6f3-9abcb7f866c7"
      },
      "execution_count": null,
      "outputs": [
        {
          "output_type": "stream",
          "name": "stderr",
          "text": [
            "Epoch 24: 100%|██████████| 25/25 [06:07<00:00, 14.70s/it, loss1=0.0458, loss2=0.238, loss3=1.57, loss4=0.128]\n"
          ]
        }
      ]
    },
    {
      "cell_type": "code",
      "source": [
        "x = np.arange(EPOCHS)\n",
        "\n",
        "fig, ax = plt.subplots(figsize=(7, 5))\n",
        "ax.plot(x, loss1_history, label='lr = 0.1') \n",
        "ax.plot(x, loss2_history, label='lr = 0.01') \n",
        "ax.plot(x, loss3_history, label='lr = 0.001') \n",
        "ax.plot(x, loss4_history, label='lr = 0.1 (lr decay)') \n",
        "\n",
        "ax.set_xlabel('number of epochs')\n",
        "ax.set_ylabel('average loss') \n",
        "ax.set_title(\"effect of the learning rate on training\") \n",
        "ax.legend()\n",
        "\n",
        "plt.show()"
      ],
      "metadata": {
        "colab": {
          "base_uri": "https://localhost:8080/",
          "height": 350
        },
        "id": "PkmeyFGMjFWv",
        "outputId": "fd808554-714b-44c6-aacd-b3332bbbe106"
      },
      "execution_count": null,
      "outputs": [
        {
          "output_type": "display_data",
          "data": {
            "image/png": "[encoded data removed]",
            "text/plain": [
              "<Figure size 504x360 with 1 Axes>"
            ]
          },
          "metadata": {
            "needs_background": "light"
          }
        }
      ]
    },
    {
      "cell_type": "markdown",
      "source": [
        "We can already see the effect of changing the learning rate on how the model learns thoughout the training. And clearly learning rate of 0.1 is what works best.\n",
        "\n",
        "Let's evaluate it and see the accuracy of the model trained with a learning rate of 0.1"
      ],
      "metadata": {
        "id": "rrcHBwOQll1X"
      }
    },
    {
      "cell_type": "code",
      "source": [
        "correct = 0\n",
        "for imgs, labels in test_loader:\n",
        "  outputs = net1(imgs.view(-1, input_dim))\n",
        "  predicted = th.argmax(outputs.data, 1)\n",
        "  correct += (predicted == labels).sum()\n",
        "\n",
        "accuracy = 100 * correct/len(test_dataset)\n",
        "\n",
        "print(f\"accuracy : {accuracy}\")"
      ],
      "metadata": {
        "colab": {
          "base_uri": "https://localhost:8080/"
        },
        "id": "d0ukvIFnkSNA",
        "outputId": "2cefceaf-4f58-4f61-f6d8-4aed6f3e13c6"
      },
      "execution_count": null,
      "outputs": [
        {
          "output_type": "stream",
          "name": "stdout",
          "text": [
            "accuracy : 95.69999694824219\n"
          ]
        }
      ]
    },
    {
      "cell_type": "markdown",
      "source": [
        "Just finetuning the learning rate already boosted the accuracy of the model with no other modification.\n",
        "\n",
        "## optimizer algorithm:\n",
        "Next we'll explore different optimizer algorithms, we'll compare mainly three optimizers: SGD, RMSProp and adam."
      ],
      "metadata": {
        "id": "dUGGu_LemaCy"
      }
    },
    {
      "cell_type": "code",
      "source": [
        "lr = 0.1\n",
        "net1 = NeuralNet(input_dim, hidden_size, output_dim)\n",
        "optimizer1 = th.optim.SGD(net1.parameters(), lr=lr)\n",
        "\n",
        "net2 = NeuralNet(input_dim, hidden_size, output_dim)\n",
        "optimizer2 = th.optim.RMSprop(net2.parameters(), lr=lr)\n",
        "\n",
        "net3 = NeuralNet(input_dim, hidden_size, output_dim)\n",
        "optimizer3 = th.optim.Adam(net3.parameters(), lr=lr)"
      ],
      "metadata": {
        "id": "xsnbXSw7mWEQ"
      },
      "execution_count": 10,
      "outputs": []
    },
    {
      "cell_type": "code",
      "source": [
        "EPOCHS = 25\n",
        "loop = tqdm(range(EPOCHS), leave=True)\n",
        "\n",
        "loss1_history = []\n",
        "loss2_history = []\n",
        "loss3_history = []\n",
        "for epoch in loop:\n",
        "  loop.set_description(f'Epoch {epoch}')\n",
        "\n",
        "  losses1 = []\n",
        "  losses2 = []\n",
        "  losses3 = []\n",
        "  for imgs, labels in train_loader:\n",
        "    optimizer1.zero_grad()\n",
        "    optimizer2.zero_grad()\n",
        "    optimizer3.zero_grad()\n",
        "    optimizer4.zero_grad()\n",
        "\n",
        "    outputs1 = net1(imgs.view(-1, input_dim))\n",
        "    loss1 = criterion(outputs1, labels)\n",
        "    loss1.backward()\n",
        "    optimizer1.step()\n",
        "    losses1.append(loss1.item())\n",
        "\n",
        "    outputs2 = net2(imgs.view(-1, input_dim))\n",
        "    loss2 = criterion(outputs2, labels)\n",
        "    loss2.backward()\n",
        "    optimizer2.step()\n",
        "    losses2.append(loss2.item())\n",
        "\n",
        "    outputs3 = net3(imgs.view(-1, input_dim))\n",
        "    loss3 = criterion(outputs3, labels)\n",
        "    loss3.backward()\n",
        "    optimizer3.step()\n",
        "    losses3.append(loss3.item())\n",
        "\n",
        "    loop.set_postfix(loss1=loss1.item(), loss2=loss2.item(), loss3=loss3.item())\n",
        "\n",
        "\n",
        "  loss1_history.append(np.mean(losses1))\n",
        "  loss2_history.append(np.mean(losses2))\n",
        "  loss3_history.append(np.mean(losses3))"
      ],
      "metadata": {
        "colab": {
          "base_uri": "https://localhost:8080/"
        },
        "id": "_7AGUrkPnERS",
        "outputId": "3d44bbbc-0c16-43ce-977e-2ace8ae8b644"
      },
      "execution_count": null,
      "outputs": [
        {
          "output_type": "stream",
          "name": "stderr",
          "text": [
            "Epoch 24: 100%|██████████| 25/25 [07:35<00:00, 18.22s/it, loss1=0.256, loss2=0.637, loss3=0.314]\n"
          ]
        }
      ]
    },
    {
      "cell_type": "code",
      "source": [
        "x = np.arange(EPOCHS)\n",
        "\n",
        "fig, ax = plt.subplots(figsize=(7, 5))\n",
        "ax.plot(x, loss1_history, label='SGD') \n",
        "ax.plot(x, loss2_history, label='RMSProp') \n",
        "ax.plot(x, loss3_history, label='Adam') \n",
        "\n",
        "ax.set_xlabel('number of epochs')\n",
        "ax.set_ylabel('average loss') \n",
        "ax.set_title(\"effect of the optimizer on training\") \n",
        "ax.legend()\n",
        "\n",
        "plt.show()"
      ],
      "metadata": {
        "colab": {
          "base_uri": "https://localhost:8080/",
          "height": 350
        },
        "id": "fc4_CRSBnP0K",
        "outputId": "0fc8f0c1-ef28-42f7-b8de-4cd885e90f96"
      },
      "execution_count": null,
      "outputs": [
        {
          "output_type": "display_data",
          "data": {
            "image/png": "[encoded data removed]",
            "text/plain": [
              "<Figure size 504x360 with 1 Axes>"
            ]
          },
          "metadata": {
            "needs_background": "light"
          }
        }
      ]
    },
    {
      "cell_type": "markdown",
      "source": [
        "So it seems that the SGD optimizer gives better results.\n",
        "\n",
        "I should point out that there are different techniques of hyperparameter techniques that do an automatic search to get the best settings, and the way we're doing it now is kind of manual."
      ],
      "metadata": {
        "id": "2efC1msrpX-7"
      }
    },
    {
      "cell_type": "markdown",
      "source": [
        "## Activation function:\n",
        "\n",
        "Now is the time to touch a little on the inside of the architecture. The activation function in the hidden layer can have a substantial impact on the results.\n",
        "We'll explore 3 activation functions: Sigmoid, Relu and Tanh"
      ],
      "metadata": {
        "id": "I-oL2s4dqr8V"
      }
    },
    {
      "cell_type": "code",
      "source": [
        "class NeuralNet(nn.Module):\n",
        "  def __init__(self, input_dim, hidden_size, output_dim, activ_fn):\n",
        "    super().__init__()\n",
        "    self.linear1 = nn.Linear(input_dim, hidden_size)\n",
        "    self.linear2 = nn.Linear(hidden_size, output_dim)\n",
        "    self.activ = self.get_activ_fn(activ_fn)\n",
        "\n",
        "  def forward(self, x):\n",
        "    a = self.linear1(x)\n",
        "    a = self.activ(a)\n",
        "    output = self.linear2(a)\n",
        "    return output\n",
        "\n",
        "  def get_activ_fn(self, activ_fn):\n",
        "    if activ_fn == 'sigmoid':\n",
        "      return nn.Sigmoid()\n",
        "    elif activ_fn == 'relu':\n",
        "      return nn.ReLU()\n",
        "    elif activ_fn == 'tanh':\n",
        "      return nn.Tanh()\n",
        "    "
      ],
      "metadata": {
        "id": "omFYfRFuqpIJ"
      },
      "execution_count": 11,
      "outputs": []
    },
    {
      "cell_type": "code",
      "source": [
        "net1 = NeuralNet(input_dim, hidden_size, output_dim, 'sigmoid')\n",
        "optimizer1 = th.optim.SGD(net1.parameters(), lr=lr)\n",
        "\n",
        "net2 = NeuralNet(input_dim, hidden_size, output_dim, 'relu')\n",
        "optimizer2 = th.optim.SGD(net2.parameters(), lr=lr)\n",
        "\n",
        "net3 = NeuralNet(input_dim, hidden_size, output_dim, 'tanh')\n",
        "optimizer3 = th.optim.SGD(net3.parameters(), lr=lr)"
      ],
      "metadata": {
        "id": "IJ2URjwKswDL"
      },
      "execution_count": null,
      "outputs": []
    },
    {
      "cell_type": "code",
      "source": [
        "EPOCHS = 25\n",
        "loop = tqdm(range(EPOCHS), leave=True)\n",
        "\n",
        "loss1_history = []\n",
        "loss2_history = []\n",
        "loss3_history = []\n",
        "for epoch in loop:\n",
        "  loop.set_description(f'Epoch {epoch}')\n",
        "\n",
        "  losses1 = []\n",
        "  losses2 = []\n",
        "  losses3 = []\n",
        "  for imgs, labels in train_loader:\n",
        "    optimizer1.zero_grad()\n",
        "    optimizer2.zero_grad()\n",
        "    optimizer3.zero_grad()\n",
        "    optimizer4.zero_grad()\n",
        "\n",
        "    outputs1 = net1(imgs.view(-1, input_dim))\n",
        "    loss1 = criterion(outputs1, labels)\n",
        "    loss1.backward()\n",
        "    optimizer1.step()\n",
        "    losses1.append(loss1.item())\n",
        "\n",
        "    outputs2 = net2(imgs.view(-1, input_dim))\n",
        "    loss2 = criterion(outputs2, labels)\n",
        "    loss2.backward()\n",
        "    optimizer2.step()\n",
        "    losses2.append(loss2.item())\n",
        "\n",
        "    outputs3 = net3(imgs.view(-1, input_dim))\n",
        "    loss3 = criterion(outputs3, labels)\n",
        "    loss3.backward()\n",
        "    optimizer3.step()\n",
        "    losses3.append(loss3.item())\n",
        "\n",
        "    loop.set_postfix(loss1=loss1.item(), loss2=loss2.item(), loss3=loss3.item())\n",
        "\n",
        "\n",
        "  loss1_history.append(np.mean(losses1))\n",
        "  loss2_history.append(np.mean(losses2))\n",
        "  loss3_history.append(np.mean(losses3))"
      ],
      "metadata": {
        "colab": {
          "base_uri": "https://localhost:8080/"
        },
        "id": "F7PXOCwXs9f5",
        "outputId": "f338bcfb-5174-42f3-b2e1-cd3a18b69105"
      },
      "execution_count": null,
      "outputs": [
        {
          "output_type": "stream",
          "name": "stderr",
          "text": [
            "Epoch 24: 100%|██████████| 25/25 [04:53<00:00, 11.74s/it, loss1=0.132, loss2=0.0102, loss3=0.0336]\n"
          ]
        }
      ]
    },
    {
      "cell_type": "code",
      "source": [
        "x = np.arange(EPOCHS)\n",
        "\n",
        "fig, ax = plt.subplots(figsize=(7, 5))\n",
        "ax.plot(x, loss1_history, label='Sigmoid') \n",
        "ax.plot(x, loss2_history, label='ReLU') \n",
        "ax.plot(x, loss3_history, label='Tanh') \n",
        "\n",
        "ax.set_xlabel('number of epochs')\n",
        "ax.set_ylabel('average loss') \n",
        "ax.set_title(\"effect of the activation function on training\") \n",
        "ax.legend()\n",
        "\n",
        "plt.show()"
      ],
      "metadata": {
        "colab": {
          "base_uri": "https://localhost:8080/",
          "height": 350
        },
        "id": "D07ApjMbtAhX",
        "outputId": "7dd1528a-8154-4112-c791-6942821bffc3"
      },
      "execution_count": null,
      "outputs": [
        {
          "output_type": "display_data",
          "data": {
            "image/png": "[encoded data removed]",
            "text/plain": [
              "<Figure size 504x360 with 1 Axes>"
            ]
          },
          "metadata": {
            "needs_background": "light"
          }
        }
      ]
    },
    {
      "cell_type": "markdown",
      "source": [
        "We notice that Sigmoid is underperforming the other two. And ReLU seems to work best, although it's close enough with Tanh activation."
      ],
      "metadata": {
        "id": "MIskpGkiuc-D"
      }
    },
    {
      "cell_type": "code",
      "source": [
        "correct = 0\n",
        "for imgs, labels in test_loader:\n",
        "  outputs = net2(imgs.view(-1, input_dim))\n",
        "  predicted = th.argmax(outputs.data, 1)\n",
        "  # for gpu, bring the predicted and labels back to cpu fro python operations to work\n",
        "  correct += (predicted == labels).sum()\n",
        "\n",
        "accuracy = 100 * correct/len(test_dataset)\n",
        "\n",
        "print(f\"accuracy : {accuracy}\")"
      ],
      "metadata": {
        "colab": {
          "base_uri": "https://localhost:8080/"
        },
        "id": "UqExG8GStJzX",
        "outputId": "7613bdaa-ed9f-4b6b-d235-753f98e1eb5a"
      },
      "execution_count": null,
      "outputs": [
        {
          "output_type": "stream",
          "name": "stdout",
          "text": [
            "accuracy : 97.83000183105469\n"
          ]
        }
      ]
    },
    {
      "cell_type": "markdown",
      "source": [
        "At this point, the accuracy is already very good. But we would still wonder if we can still improve it slightly better (better is always good)"
      ],
      "metadata": {
        "id": "6wjLvYIZvIem"
      }
    },
    {
      "cell_type": "markdown",
      "source": [
        "## Batch normalization\n",
        "Let's see if batch normalization can have a positive effect and compare to the last network"
      ],
      "metadata": {
        "id": "iaDWSPa1vkxu"
      }
    },
    {
      "cell_type": "code",
      "source": [
        "class NeuralNet(nn.Module):\n",
        "  def __init__(self, input_dim, hidden_size, output_dim, activ_fn):\n",
        "    super().__init__()\n",
        "    self.linear1 = nn.Linear(input_dim, hidden_size)\n",
        "    self.linear2 = nn.Linear(hidden_size, output_dim)\n",
        "    self.activ = self.get_activ_fn(activ_fn)\n",
        "\n",
        "  def forward(self, x):\n",
        "    a = self.linear1(x)\n",
        "    a = F.layer_norm(a, normalized_shape=a.size()[1:])\n",
        "    a = self.activ(a)\n",
        "    output = self.linear2(a)\n",
        "    return output\n",
        "\n",
        "  def get_activ_fn(self, activ_fn):\n",
        "    if activ_fn == 'sigmoid':\n",
        "      return nn.Sigmoid()\n",
        "    elif activ_fn == 'relu':\n",
        "      return nn.ReLU()\n",
        "    elif activ_fn == 'tanh':\n",
        "      return nn.Tanh()"
      ],
      "metadata": {
        "id": "tjhx40znu8Er"
      },
      "execution_count": 12,
      "outputs": []
    },
    {
      "cell_type": "code",
      "source": [
        "from tqdm import tqdm\n",
        "\n",
        "activ_fn = 'relu'\n",
        "net = NeuralNet(input_dim, hidden_size, output_dim, activ_fn)\n",
        "optimizer = th.optim.SGD(net.parameters(), lr=lr)\n",
        "\n",
        "EPOCHS = 25\n",
        "loop = tqdm(range(EPOCHS), leave=True)\n",
        "\n",
        "net.train()\n",
        "for epoch in loop:\n",
        "  loop.set_description(f'Epoch {epoch}')\n",
        "  for imgs, labels in train_loader:\n",
        "    optimizer.zero_grad()\n",
        "\n",
        "    outputs = net(imgs.view(-1, input_dim))\n",
        "    loss = criterion(outputs, labels)\n",
        "    loss.backward()\n",
        "    optimizer.step()\n",
        "    loop.set_postfix(loss=loss.item())\n",
        "\n",
        "  # calculate accuracy on test set\n",
        "\n",
        "net.eval()\n",
        "correct = 0\n",
        "for imgs, labels in test_loader:\n",
        "  outputs = net(imgs.view(-1, input_dim))\n",
        "  predicted = th.argmax(outputs.data, 1)\n",
        "  # for gpu, bring the predicted and labels back to cpu fro python operations to work\n",
        "  correct += (predicted == labels).sum()\n",
        "\n",
        "accuracy = 100 * correct/len(test_dataset)\n",
        "print(f\"accuracy : {accuracy}\")"
      ],
      "metadata": {
        "colab": {
          "base_uri": "https://localhost:8080/"
        },
        "id": "CCo_BW7Tw7AY",
        "outputId": "e7d9ede3-0a2e-4ec5-a8c2-8f05ddc758bb"
      },
      "execution_count": 14,
      "outputs": [
        {
          "output_type": "stream",
          "name": "stderr",
          "text": [
            "Epoch 24: 100%|██████████| 25/25 [03:43<00:00,  8.94s/it, loss=0.0205]\n"
          ]
        },
        {
          "output_type": "stream",
          "name": "stdout",
          "text": [
            "accuracy : 97.88999938964844\n"
          ]
        }
      ]
    },
    {
      "cell_type": "markdown",
      "source": [
        "As we notice our model approaches 98% accuracy.\n",
        "\n",
        "## Dropout\n",
        "One last configuration we might add is dropout."
      ],
      "metadata": {
        "id": "pPEqwymoy1h4"
      }
    },
    {
      "cell_type": "code",
      "source": [
        "class NeuralNet(nn.Module):\n",
        "  def __init__(self, input_dim, hidden_size, output_dim, activ_fn, rate=0.1):\n",
        "    super().__init__()\n",
        "    self.linear1 = nn.Linear(input_dim, hidden_size)\n",
        "    self.linear2 = nn.Linear(hidden_size, output_dim)\n",
        "    self.activ = self.get_activ_fn(activ_fn)\n",
        "    self.rate = rate\n",
        "\n",
        "  def forward(self, x, training=True):\n",
        "    a = self.linear1(x)\n",
        "    a = F.layer_norm(a, normalized_shape=a.size()[1:])\n",
        "    a = self.activ(a)\n",
        "    a = F.dropout(a, p=self.rate, training=training)\n",
        "    output = self.linear2(a)\n",
        "    return output\n",
        "\n",
        "  def get_activ_fn(self, activ_fn):\n",
        "    if activ_fn == 'sigmoid':\n",
        "      return nn.Sigmoid()\n",
        "    elif activ_fn == 'relu':\n",
        "      return nn.ReLU()\n",
        "    elif activ_fn == 'tanh':\n",
        "      return nn.Tanh()"
      ],
      "metadata": {
        "id": "K-b4ttVGxjrs"
      },
      "execution_count": null,
      "outputs": []
    },
    {
      "cell_type": "code",
      "source": [
        "net = NeuralNet(input_dim, hidden_size, output_dim, activ_fn)\n",
        "optimizer = th.optim.SGD(net.parameters(), lr=lr)\n",
        "\n",
        "EPOCHS = 25\n",
        "loop = tqdm(range(EPOCHS), leave=True)\n",
        "\n",
        "net.train()\n",
        "for epoch in loop:\n",
        "  loop.set_description(f'Epoch {epoch}')\n",
        "  for imgs, labels in train_loader:\n",
        "    optimizer.zero_grad()\n",
        "\n",
        "    outputs = net(imgs.view(-1, input_dim))\n",
        "    loss = criterion(outputs, labels)\n",
        "    loss.backward()\n",
        "    optimizer.step()\n",
        "    loop.set_postfix(loss=loss.item())\n",
        "\n",
        "net.eval()\n",
        "correct = 0\n",
        "for imgs, labels in test_loader:\n",
        "  outputs = net(imgs.view(-1, input_dim), training=False)\n",
        "  predicted = th.argmax(outputs.data, 1)\n",
        "  # for gpu, bring the predicted and labels back to cpu fro python operations to work\n",
        "  correct += (predicted == labels).sum()\n",
        "\n",
        "accuracy = 100 * correct/len(test_dataset)\n",
        "print(f\"accuracy : {accuracy}\")"
      ],
      "metadata": {
        "colab": {
          "base_uri": "https://localhost:8080/"
        },
        "id": "ff4Gqc11zdWE",
        "outputId": "47e2661b-059d-421b-c50b-b0f829a01c48"
      },
      "execution_count": null,
      "outputs": [
        {
          "output_type": "stream",
          "name": "stderr",
          "text": [
            "Epoch 24: 100%|██████████| 25/25 [03:56<00:00,  9.48s/it, loss=0.0608]\n"
          ]
        },
        {
          "output_type": "stream",
          "name": "stdout",
          "text": [
            "accuracy : 97.80000305175781\n"
          ]
        }
      ]
    },
    {
      "cell_type": "markdown",
      "source": [
        "Dropout doesn't seem to get us better result, and this might be due to the fact that batch normalization eliminates the need of Dropout, cause BN provides sometimes similar regularization benefits as Dropout intuitively.\n",
        "\n",
        "**In conclusion** our final architecture and hyperparameters look like the following:\n",
        "Note that we can always find a better architecture that gets better result, by changing the number of layers, or the dimension of the hidden size or even use CNNs -convolutional neural networks- for that matter (the best mnist classifier achieves 99.8 accuracy and uses CNNs). "
      ],
      "metadata": {
        "id": "3B6aKzaa0uDB"
      }
    },
    {
      "cell_type": "code",
      "source": [
        "class NeuralNet(nn.Module):\n",
        "  def __init__(self, input_dim, hidden_size, output_dim, activ_fn):\n",
        "    super().__init__()\n",
        "    self.linear1 = nn.Linear(input_dim, hidden_size)\n",
        "    self.linear2 = nn.Linear(hidden_size, output_dim)\n",
        "    self.activ = self.get_activ_fn(activ_fn)\n",
        "\n",
        "  def forward(self, x):\n",
        "    a = self.linear1(x)\n",
        "    a = F.layer_norm(a, normalized_shape=a.size()[1:])\n",
        "    a = self.activ(a)\n",
        "    output = self.linear2(a)\n",
        "    return output\n",
        "\n",
        "  def get_activ_fn(self, activ_fn):\n",
        "    if activ_fn == 'sigmoid':\n",
        "      return nn.Sigmoid()\n",
        "    elif activ_fn == 'relu':\n",
        "      return nn.ReLU()\n",
        "    elif activ_fn == 'tanh':\n",
        "      return nn.Tanh()"
      ],
      "metadata": {
        "id": "2QlKhcn8zqeA"
      },
      "execution_count": 15,
      "outputs": []
    },
    {
      "cell_type": "code",
      "source": [
        "input_dim = 28*28\n",
        "hidden_size = 128\n",
        "output_dim = 10\n",
        "activ_fn = 'relu'\n",
        "lr = 0.1\n",
        "\n",
        "net = NeuralNet(input_dim, hidden_size, output_dim, activ_fn)\n",
        "optimizer = th.optim.SGD(net.parameters(), lr=lr)\n",
        "\n",
        "EPOCHS = 25\n",
        "loop = tqdm(range(EPOCHS), leave=True)\n",
        "\n",
        "net.train()\n",
        "for epoch in loop:\n",
        "  loop.set_description(f'Epoch {epoch}')\n",
        "  for imgs, labels in train_loader:\n",
        "    optimizer.zero_grad()\n",
        "\n",
        "    outputs = net(imgs.view(-1, input_dim))\n",
        "    loss = criterion(outputs, labels)\n",
        "    loss.backward()\n",
        "    optimizer.step()\n",
        "    loop.set_postfix(loss=loss.item())\n",
        "\n",
        "net.eval()\n",
        "correct = 0\n",
        "for imgs, labels in test_loader:\n",
        "  outputs = net(imgs.view(-1, input_dim))\n",
        "  predicted = th.argmax(outputs.data, 1)\n",
        "  correct += (predicted == labels).sum()\n",
        "\n",
        "accuracy = 100 * correct/len(test_dataset)\n",
        "print(f\"accuracy : {accuracy}\")"
      ],
      "metadata": {
        "colab": {
          "base_uri": "https://localhost:8080/"
        },
        "id": "QOEbi2vE2jPx",
        "outputId": "d11c0c2d-4068-4400-d9b6-562c643e0fa9"
      },
      "execution_count": 16,
      "outputs": [
        {
          "output_type": "stream",
          "name": "stderr",
          "text": [
            "Epoch 24: 100%|██████████| 25/25 [03:38<00:00,  8.75s/it, loss=0.0169]\n"
          ]
        },
        {
          "output_type": "stream",
          "name": "stdout",
          "text": [
            "accuracy : 97.80999755859375\n"
          ]
        }
      ]
    },
    {
      "cell_type": "markdown",
      "source": [
        "## Saving our model\n",
        "\n",
        "Now that we have finished our training we can save our model for later use."
      ],
      "metadata": {
        "id": "NTAfq7J4F3R0"
      }
    },
    {
      "cell_type": "code",
      "source": [
        "#save trained model\n",
        "PATH = '../trained-models/mnist_net.pth'\n",
        "th.save(net.state_dict(), PATH)\n"
      ],
      "metadata": {
        "id": "v4wr--Fr2yPW"
      },
      "execution_count": 17,
      "outputs": []
    },
    {
      "cell_type": "code",
      "source": [
        "#load the model\n",
        "input_dim = 28*28\n",
        "hidden_size = 128\n",
        "output_dim = 10\n",
        "activ_fn = 'relu'\n",
        "\n",
        "PATH = '../trained-models/mnist_net.pth'\n",
        "net = NeuralNet(input_dim, hidden_size, output_dim, activ_fn)\n",
        "net.load_state_dict(th.load(PATH))\n",
        "\n",
        "#using this network we can now do digit recognition "
      ],
      "metadata": {
        "id": "AdLjz-SF3M6k",
        "colab": {
          "base_uri": "https://localhost:8080/"
        },
        "outputId": "b91ff280-c830-42d4-adac-966ab2504d91"
      },
      "execution_count": 18,
      "outputs": [
        {
          "output_type": "execute_result",
          "data": {
            "text/plain": [
              "<All keys matched successfully>"
            ]
          },
          "metadata": {},
          "execution_count": 18
        }
      ]
    },
    {
      "cell_type": "markdown",
      "source": [
        "And with this we conclude the first part of our deep learning projects series. \n",
        "\n",
        "Overall, we implemented our first neural network to do digit recognition, and learned about hyperparameter finetuning and improving techniques."
      ],
      "metadata": {
        "id": "HznMUY3THsuQ"
      }
    }
  ]
}