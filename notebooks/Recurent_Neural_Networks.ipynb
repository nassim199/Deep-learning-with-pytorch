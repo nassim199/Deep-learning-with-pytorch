{
  "nbformat": 4,
  "nbformat_minor": 0,
  "metadata": {
    "colab": {
      "name": "RNNs.ipynb",
      "provenance": [],
      "collapsed_sections": []
    },
    "kernelspec": {
      "name": "python3",
      "display_name": "Python 3"
    },
    "language_info": {
      "name": "python"
    },
    "accelerator": "GPU"
  },
  "cells": [
    {
      "cell_type": "markdown",
      "source": [
        "# Exploring Recurent neural networks\n",
        "\n",
        "In this notebook we'll explore the magic of recurrent neural networks.\n",
        "\n",
        "RNNs attempt to solve a particular problem in regards to the input (or output) shape. Other architecture models (like vanilla neural networks or CNNs) expect a fixed sized input. RNNs on the other hand, they can take a sequences of data as an input and can output sequence data as well. That becomes usefull in problems involving text for example, or videos since videos are sequences of frames, since these types of data are not of fixed size and can vary.\n",
        "\n",
        "The way RNNs do that is by using a hidden state. Considering that the RNN takes a sequence of data as input, it iterates through this sequence and for each iteration we have this hidden state that represents the history of past iterations and serves as a memory for what the model has seen so far. Using the hidden state and the input x from the current iteration of the sequence it outputs the next hidden state.\n",
        "\n",
        "it works in a kind of similar way to output a sequence data. This is what lets RNNs to be so powerful and exciting. Some cases of how we might want to treat sequence data are as follow:\n",
        "\n",
        "![Recurrent networks](https://miro.medium.com/max/700/0*toBP1hMLUPqAM-KI.jpg)\n",
        "\n",
        "In this notebook we'll try to do Part of speech tagging. POS tagging consists basically in categorazing a word in a text, the word tag can vary according to its context and definition (for example a word can be a verb, noun etc).\n",
        "\n",
        "![POS tagging](https://byteiota.com/wp-content/uploads/2021/01/POS-Tagging-800x400.jpg)\n",
        "\n",
        "The language on which we'll perform this task is Esperanto, which is a constructed language meant to be easy, its grammar is higly regular so it should fascilitate the task for us.\n",
        "\n",
        "We'll also be working on a character level, what this means is that the piece of text will be represented as a series of characters, each character will be represented in a vector form (using the one hot encoding). One advantage this represents for us is that it's computationaly inexpensive, the size of the vectors isn't long since the number of characters is smal. \n",
        "For each word the model will predict its corresponding tag. In a sentence, words are seperated by the whitespace character \" \", so that's what'll indicate for us the delimitation of words in a sentence (thus allow us to make predictions when necessary)."
      ],
      "metadata": {
        "id": "LtHagme_gP9I"
      }
    },
    {
      "cell_type": "markdown",
      "source": [
        "## Importing the dataset\n",
        "\n",
        "data set can be found on the following [link](https://s3.amazonaws.com/datasets.huggingface.co/EsperBERTo/data/pos-train.txt).\n",
        "\n",
        "The dataset consists of several sentences, and the data format is the following:<br>\n",
        "Each line contains a word with its corresponding tag. empty lines represent sentence boundaries.\n",
        "\n",
        "the different pos tags are [(link)](https://s3.amazonaws.com/datasets.huggingface.co/EsperBERTo/data/pos-labels.txt):\n",
        "- O\n",
        "- NOUN\n",
        "- ADJ\n",
        "- ADV\n",
        "- VERB\n",
        "- PRON\n",
        "\n",
        "Data was downloaded locally first in order to use it."
      ],
      "metadata": {
        "id": "vsomakkMmJ05"
      }
    },
    {
      "cell_type": "code",
      "execution_count": null,
      "metadata": {
        "id": "oqpGVFm4csAY"
      },
      "outputs": [],
      "source": [
        "import torch as th\n",
        "import torch.nn as nn\n",
        "import torch.nn.functional as F\n",
        "from torch.utils.data import Dataset\n",
        "\n",
        "import numpy as np\n",
        "import pandas as pd\n",
        "import matplotlib.pyplot as plt\n",
        "\n",
        "import math\n"
      ]
    },
    {
      "cell_type": "markdown",
      "source": [
        "Let's take a look at our dataset. We see in this example the first sentence from the dataset. \n",
        "\n",
        "Remember that an empty line is what separates sentences."
      ],
      "metadata": {
        "id": "kLQwEslgnY5J"
      }
    },
    {
      "cell_type": "code",
      "source": [
        "#the dataset path will depend on the directory where you put the dataset after you download it\n",
        "ds_link = \"[path to dataset]\"\n",
        "\n",
        "with open(ds_link, 'r') as f:\n",
        "  l = f.readline()\n",
        "  while l != '\\n':\n",
        "    l = l.replace('\\n', '')\n",
        "    print(l)\n",
        "    l = f.readline()"
      ],
      "metadata": {
        "colab": {
          "base_uri": "https://localhost:8080/"
        },
        "id": "pP7e8OYumvXi",
        "outputId": "9ece99e2-002d-4128-9c69-8b98fce197fc"
      },
      "execution_count": null,
      "outputs": [
        {
          "output_type": "stream",
          "name": "stdout",
          "text": [
            "Ĉu O\n",
            ". O\n",
            ". O\n",
            ". O\n",
            "preĝi PRON\n",
            "mediti PRON\n",
            "ricevi PRON\n",
            "instigojn O\n",
            "kanti PRON\n",
            "muziki PRON\n",
            "informiĝi PRON\n",
            "legi PRON\n",
            "studi PRON\n",
            "prepari PRON\n",
            "Diservon O\n"
          ]
        }
      ]
    },
    {
      "cell_type": "code",
      "source": [
        "#Let's create a dictionnary of our labels and vocabulary\n",
        "\n",
        "POS_tags_dict = {\n",
        "  'O': 0,\n",
        "  'NOUN': 1,\n",
        "  'ADJ': 2,\n",
        "  'ADV': 3,\n",
        "  'VERB': 4,\n",
        "  'PRON': 5\n",
        "}\n",
        "\n",
        "ix2tags = {v:k for (k,v) in POS_tags_dict.items()}\n",
        "\n",
        "\n",
        "#creating the vocabulary of characters of the Esperanto language\n",
        "charachters = 'abcĉdefgĝhĥijĵklmnoprsŝtuŭvzABCĈDEFGĜHĤIJĴKLMNOPRSŜTUŬVZ1234567890.,?!;:-\\'\"'\n",
        "#we initialize our vocab with some special characters\n",
        "vocab = {\n",
        "    '<pad>': 0, #this can be used to add padding to input, but will not be used in our case\n",
        "    ' ': 1, #this is the white space character\n",
        "    '<unk>': 2, #the unkown token is used for characters that are not present in our vocab but that can still be encountered in our input\n",
        "}\n",
        "\n",
        "for i, c in enumerate(charachters):\n",
        "  vocab[c] = i + 3\n",
        "\n",
        "print(len(vocab))"
      ],
      "metadata": {
        "id": "rF_G4_xYn7y5",
        "colab": {
          "base_uri": "https://localhost:8080/"
        },
        "outputId": "7b856896-0295-478c-9c81-0b622838729a"
      },
      "execution_count": null,
      "outputs": [
        {
          "output_type": "stream",
          "name": "stdout",
          "text": [
            "78\n"
          ]
        }
      ]
    },
    {
      "cell_type": "code",
      "source": [
        "import linecache\n",
        "\n",
        "#each element of our dataset will be a sentence\n",
        "class POSDataset(Dataset):\n",
        "    def __init__(self, ds_link, max_length = 10000):\n",
        "        #max length is the max number of sentences we'll use for training\n",
        "\n",
        "        self.ds_link = ds_link\n",
        "\n",
        "        #sentences index will help us keep track of where each sentence begins - in order to index sentences in our file\n",
        "        self.sentences_index = []\n",
        "        #first sentence begins at line 1\n",
        "        self.sentences_index.append(1)\n",
        "        self.f = open(ds_link, 'r')\n",
        "        \n",
        "        j = 1\n",
        "        for i, l in enumerate(self.f):\n",
        "          if l == '\\n':\n",
        "            #at the end of each sentence we append the number of the line where next sentence begins\n",
        "            self.sentences_index.append(i+2)\n",
        "            j += 1\n",
        "            if j == max_length:\n",
        "              break\n",
        "\n",
        "\n",
        "    def __len__(self):\n",
        "        return len(self.sentences_index)\n",
        "\n",
        "    def __getitem__(self, i):\n",
        "        #using sentences index we can read the words of the sentence with their corresponding tag\n",
        "        index = self.sentences_index[i]\n",
        "        l = linecache.getline(self.ds_link, index)\n",
        "        sentence = []\n",
        "        labels = []\n",
        "        while l != '\\n':\n",
        "          l = l.replace('\\n', '')\n",
        "          word = l.split(\" \")[0]\n",
        "          sentence.append(word)\n",
        "\n",
        "          label = l.split(\" \")[1]\n",
        "          labels.append(POS_tags_dict[label])\n",
        "\n",
        "          index += 1\n",
        "          l = linecache.getline(self.ds_link, index)\n",
        "        \n",
        "        #we join the words on single sentence seperated by \" \", and then convert the characters to token numbers\n",
        "        #if a character isn't in our vocab we use the <unk> token\n",
        "        tokens = [2 if c not in vocab else vocab[c] for c in \" \".join(sentence)]\n",
        "        #add the whitespace token for the last word\n",
        "        tokens.append(1)\n",
        "\n",
        "        return [th.tensor(tokens), th.tensor(labels)]"
      ],
      "metadata": {
        "id": "H3X0Gh1p76_u"
      },
      "execution_count": null,
      "outputs": []
    },
    {
      "cell_type": "code",
      "source": [
        "ds = POSDataset(ds_link)\n",
        "len(ds)"
      ],
      "metadata": {
        "colab": {
          "base_uri": "https://localhost:8080/"
        },
        "id": "uHl7NF0XFLLm",
        "outputId": "1f885553-7f8b-4b5c-fd45-8094c5567e96"
      },
      "execution_count": null,
      "outputs": [
        {
          "output_type": "execute_result",
          "data": {
            "text/plain": [
              "10000"
            ]
          },
          "metadata": {},
          "execution_count": 5
        }
      ]
    },
    {
      "cell_type": "code",
      "source": [
        "class POSTagger(nn.Module):\n",
        "  def __init__(self, hidden_size, vocab_size, output_size):\n",
        "      super().__init__()\n",
        "      #hidden size is vector size of the hidden state\n",
        "      self.hidden_size = hidden_size\n",
        "      #vocab size is the vector size of the input\n",
        "      self.vocab_size = vocab_size\n",
        "      #output size is the vector size of the output (pos tags)\n",
        "      self.output_size = output_size\n",
        "\n",
        "      #we'll an RNN with only one layer\n",
        "      self.rnn = nn.RNN(vocab_size, hidden_size)\n",
        "      #to which we'll add a layer to make the predictions in our output space\n",
        "      self.hidden2tag = nn.Linear(hidden_size, output_size)\n",
        "\n",
        "  def forward(self, inputs):\n",
        "      #we transform our input to onehot encoding\n",
        "      charac_features = F.one_hot(inputs, num_classes=self.vocab_size)\n",
        "      charac_features = charac_features.view(len(inputs), 1, -1).type(th.float)\n",
        "      #we pass our sequence to the rnn cell\n",
        "      rnn_out, _ = self.rnn(charac_features)\n",
        "      #we gather the hidden states from the end of words only (we don't need to make prediction for each character)\n",
        "      predict_points = rnn_out[inputs==1]\n",
        "      #we pass our hidden states to the final layer to calculate the probabilities\n",
        "      tag_space = self.hidden2tag(predict_points.view(len(predict_points), -1))\n",
        "      tag_scores = F.log_softmax(tag_space, dim=1)\n",
        "      return tag_scores"
      ],
      "metadata": {
        "id": "xKI4kC5kFQB1"
      },
      "execution_count": null,
      "outputs": []
    },
    {
      "cell_type": "code",
      "source": [
        "from tqdm import tqdm\n",
        "\n",
        "HIDDEN_SIZE = 32\n",
        "model = POSTagger(HIDDEN_SIZE, len(vocab), len(POS_tags_dict))\n",
        "loss_function = nn.NLLLoss()\n",
        "optimizer = th.optim.SGD(model.parameters(), lr=0.1)\n",
        "\n",
        "\n",
        "loss_history = []\n",
        "#one epoch will be sufficient as we'll see\n",
        "for epoch in range(1): \n",
        "    loop = tqdm(ds)\n",
        "    for sentence, tags in loop:\n",
        "        model.zero_grad()\n",
        "\n",
        "        tag_scores = model(sentence)\n",
        "        loss = loss_function(tag_scores, tags)\n",
        "        loss.backward()\n",
        "        optimizer.step()\n",
        "\n",
        "        loop.set_postfix(loss=loss.item())\n",
        "        loss_history.append(loss.item())\n"
      ],
      "metadata": {
        "colab": {
          "base_uri": "https://localhost:8080/"
        },
        "id": "z1sl1wKJFjw6",
        "outputId": "25dceda1-84e8-48b8-f6e1-b45acfb06d84"
      },
      "execution_count": null,
      "outputs": [
        {
          "output_type": "stream",
          "name": "stderr",
          "text": [
            "100%|██████████| 10000/10000 [06:09<00:00, 27.03it/s, loss=0.000281]\n"
          ]
        }
      ]
    },
    {
      "cell_type": "code",
      "source": [
        "plt.figure(figsize=(9,5))\n",
        "plt.plot(loss_history)\n",
        "\n",
        "plt.show()"
      ],
      "metadata": {
        "colab": {
          "base_uri": "https://localhost:8080/",
          "height": 320
        },
        "id": "d-c2PSn7cAi0",
        "outputId": "7434bf19-20ab-4946-9c69-25a3c20564b8"
      },
      "execution_count": null,
      "outputs": [
        {
          "output_type": "display_data",
          "data": {
            "image/png": "[encoded data removed]",
            "text/plain": [
              "<Figure size 648x360 with 1 Axes>"
            ]
          },
          "metadata": {
            "needs_background": "light"
          }
        }
      ]
    },
    {
      "cell_type": "code",
      "source": [
        "#evaluation\n",
        "\n",
        "correct_preds = 0\n",
        "total_preds = 0\n",
        "for sentence, tags in tqdm(ds):\n",
        "    tag_scores = model(sentence)\n",
        "    preds = tag_scores.argmax(-1)\n",
        "    correct_preds += (preds == tags).sum().item()\n",
        "    total_preds += len(tags)\n",
        "\n",
        "print()\n",
        "print(\"model accuracy: {:.3f}\".format(100*correct_preds/total_preds))"
      ],
      "metadata": {
        "colab": {
          "base_uri": "https://localhost:8080/"
        },
        "id": "a_ckmNXFh-5K",
        "outputId": "304f1da8-d7c3-45dd-efd4-c746a750f9ef"
      },
      "execution_count": null,
      "outputs": [
        {
          "output_type": "stream",
          "name": "stderr",
          "text": [
            "100%|██████████| 10000/10000 [02:02<00:00, 81.73it/s]"
          ]
        },
        {
          "output_type": "stream",
          "name": "stdout",
          "text": [
            "\n",
            "model accuracy: 100.000\n"
          ]
        },
        {
          "output_type": "stream",
          "name": "stderr",
          "text": [
            "\n"
          ]
        }
      ]
    },
    {
      "cell_type": "markdown",
      "source": [
        "The evaluation shows 100% accuracy on our training data. <br>\n",
        "This is not surprising, since it was very easy for our model to pick up the rules from the esperanto language. As we explained before, this language has a very regular grammar. For example all nouns have the ending -o, for adjectives it's -a. This is why it wasn't challenging to achieve good performance(or even perfect we might say).\n",
        "\n",
        "We can try and see the predictions on the first sentence of our dataset"
      ],
      "metadata": {
        "id": "3dW4SBbShhnS"
      }
    },
    {
      "cell_type": "code",
      "source": [
        "example1 = ds[0]\n",
        "\n",
        "tag_scores = model(example1[0])\n",
        "preds = tag_scores.argmax(-1)\n",
        "\n",
        "tags = [ix2tags[p.item()] for p in preds]\n",
        "\n",
        "with open(ds_link, 'r') as f:\n",
        "  i = 0\n",
        "  l = f.readline()\n",
        "  while l != '\\n':\n",
        "    l = l.replace('\\n', '')\n",
        "    print(f\"{l} - pred: {tags[i]}\")\n",
        "    l = f.readline()\n",
        "    i += 1"
      ],
      "metadata": {
        "colab": {
          "base_uri": "https://localhost:8080/"
        },
        "id": "g6R7zlSllViI",
        "outputId": "ccaf304c-0b95-4b52-eca9-f3c0ea2fa7ee"
      },
      "execution_count": null,
      "outputs": [
        {
          "output_type": "stream",
          "name": "stdout",
          "text": [
            "Ĉu O - pred: O\n",
            ". O - pred: O\n",
            ". O - pred: O\n",
            ". O - pred: O\n",
            "preĝi PRON - pred: PRON\n",
            "mediti PRON - pred: PRON\n",
            "ricevi PRON - pred: PRON\n",
            "instigojn O - pred: O\n",
            "kanti PRON - pred: PRON\n",
            "muziki PRON - pred: PRON\n",
            "informiĝi PRON - pred: PRON\n",
            "legi PRON - pred: PRON\n",
            "studi PRON - pred: PRON\n",
            "prepari PRON - pred: PRON\n",
            "Diservon O - pred: O\n"
          ]
        }
      ]
    },
    {
      "cell_type": "markdown",
      "source": [
        "Or you can input your own sentence and see what that gives you:\n",
        "\n",
        "(the word sentences have to be separated by whitespace, and we also assume that the sentence doesn't end in whitespace. Plus make sure to give a valid sentence)\n"
      ],
      "metadata": {
        "id": "Uz0ZzfuckM8-"
      }
    },
    {
      "cell_type": "code",
      "source": [
        "sentence = input(\"Enter your sentence: \")\n",
        "\n",
        "tokens = [2 if c not in vocab else vocab[c] for c in \" \".join(sentence)]\n",
        "tokens.append(1)\n",
        "tokens = th.tensor(tokens)\n",
        "\n",
        "tag_scores = model(tokens)\n",
        "preds = tag_scores.argmax(-1)\n",
        "\n",
        "tags = [ix2tags[p.item()] for p in preds]\n",
        "\n",
        "for i, word in enumerate(sentence.split(\" \")):\n",
        "  print(f\"{word} - pred: {tags[i]}\")"
      ],
      "metadata": {
        "id": "AIrlFEG3kSDr"
      },
      "execution_count": null,
      "outputs": []
    }
  ]
}